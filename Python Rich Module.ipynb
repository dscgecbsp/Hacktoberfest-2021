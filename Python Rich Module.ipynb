{
 "cells": [
  {
   "cell_type": "markdown",
   "id": "eb3df0de",
   "metadata": {},
   "source": [
    "# Demonstrating Python Rich Module"
   ]
  },
  {
   "cell_type": "markdown",
   "id": "2722efac",
   "metadata": {},
   "source": [
    "\n",
    "## Installing"
   ]
  },
  {
   "cell_type": "markdown",
   "id": "25b76c86",
   "metadata": {},
   "source": [
    "### Install with pip or your favorite PyPI package manager.\n",
    "\n",
    "python -m pip install rich"
   ]
  },
  {
   "cell_type": "code",
   "execution_count": 1,
   "id": "6fec9920",
   "metadata": {},
   "outputs": [
    {
     "name": "stdout",
     "output_type": "stream",
     "text": [
      "Hey print(), why can't you be colourful??\n"
     ]
    }
   ],
   "source": [
    "print(\"Hey print(), why can't you be colourful??\")"
   ]
  },
  {
   "cell_type": "code",
   "execution_count": 2,
   "id": "357d17f4",
   "metadata": {},
   "outputs": [
    {
     "data": {
      "text/html": [
       "<pre style=\"white-space:pre;overflow-x:auto;line-height:normal;font-family:Menlo,'DejaVu Sans Mono',consolas,'Courier New',monospace\"><span style=\"color: #800080; text-decoration-color: #800080; font-weight: bold\"> Look,Am so colourful now!!</span>\n",
       "</pre>\n"
      ],
      "text/plain": [
       "\u001b[1;35m Look,Am so colourful now!!\u001b[0m\n"
      ]
     },
     "metadata": {},
     "output_type": "display_data"
    }
   ],
   "source": [
    "from rich import print\n",
    "print(\"[bold magenta] Look,Am so colourful now!![/bold magenta]\")"
   ]
  },
  {
   "cell_type": "code",
   "execution_count": 3,
   "id": "8a6d4bfe",
   "metadata": {},
   "outputs": [
    {
     "data": {
      "text/html": [
       "<pre style=\"white-space:pre;overflow-x:auto;line-height:normal;font-family:Menlo,'DejaVu Sans Mono',consolas,'Courier New',monospace\">Rich makes the text <span style=\"color: #800080; text-decoration-color: #800080; font-weight: bold\"> look so Rich </span>\n",
       "</pre>\n"
      ],
      "text/plain": [
       "Rich makes the text \u001b[1;35m look so Rich \u001b[0m\n"
      ]
     },
     "metadata": {},
     "output_type": "display_data"
    }
   ],
   "source": [
    "print(\"Rich makes the text [bold magenta] look so Rich [/bold magenta]\")"
   ]
  },
  {
   "cell_type": "code",
   "execution_count": 4,
   "id": "0f68dd32",
   "metadata": {
    "scrolled": true
   },
   "outputs": [
    {
     "data": {
      "text/html": [
       "<pre style=\"white-space:pre;overflow-x:auto;line-height:normal;font-family:Menlo,'DejaVu Sans Mono',consolas,'Courier New',monospace\"><span style=\"font-weight: bold\">{</span>\n",
       "    <span style=\"color: #008000; text-decoration-color: #008000\">'__name__'</span>: <span style=\"color: #008000; text-decoration-color: #008000\">'__main__'</span>,\n",
       "    <span style=\"color: #008000; text-decoration-color: #008000\">'__doc__'</span>: <span style=\"color: #008000; text-decoration-color: #008000\">\"\\nThe actual output for print(locals()) would be :\\n\\n{'__name__': '__main__', '__doc__': </span>\n",
       "<span style=\"color: #008000; text-decoration-color: #008000\">'Automatically created module for IPython interactive environment', '__package__': None,'__loader__': None, </span>\n",
       "<span style=\"color: #008000; text-decoration-color: #008000\">'__spec__': None, '__builtin__': &lt;module 'builtins' (built-in)&gt;,'__builtins__': &lt;module 'builtins' </span>\n",
       "<span style=\"color: #008000; text-decoration-color: #008000\">(built-in)&gt;,'_ih': ['', 'print(locals())'], '_oh': {}, '_dh': [WindowsPath('C:/Users/jashw/Desktop/practice')], </span>\n",
       "<span style=\"color: #008000; text-decoration-color: #008000\">'In': ['', 'print(locals())'], 'Out': {}, 'get_ipython': &lt;bound method InteractiveShell.get_ipython of </span>\n",
       "<span style=\"color: #008000; text-decoration-color: #008000\">&lt;ipykernel.zmqshell.ZMQInteractiveShell object at 0x000001D4F8F34970&gt;&gt;, 'exit': </span>\n",
       "<span style=\"color: #008000; text-decoration-color: #008000\">&lt;IPython.core.autocall.ZMQExitAutocall object at 0x000001D4F8F37400&gt;,'quit': &lt;IPython.core.autocall.ZMQExitAutocall</span>\n",
       "<span style=\"color: #008000; text-decoration-color: #008000\">object at 0x000001D4F8F37400&gt;, '_': '', '__': '', '___': '', '_i': '', '_ii': '', '_iii': '', '_i1': </span>\n",
       "<span style=\"color: #008000; text-decoration-color: #008000\">'print(locals())'}\\n\\nNow see the magic with rich.print()\\n\"</span>,\n",
       "    <span style=\"color: #008000; text-decoration-color: #008000\">'__package__'</span>: <span style=\"color: #800080; text-decoration-color: #800080; font-style: italic\">None</span>,\n",
       "    <span style=\"color: #008000; text-decoration-color: #008000\">'__loader__'</span>: <span style=\"color: #800080; text-decoration-color: #800080; font-style: italic\">None</span>,\n",
       "    <span style=\"color: #008000; text-decoration-color: #008000\">'__spec__'</span>: <span style=\"color: #800080; text-decoration-color: #800080; font-style: italic\">None</span>,\n",
       "    <span style=\"color: #008000; text-decoration-color: #008000\">'__builtin__'</span>: <span style=\"font-weight: bold\">&lt;</span><span style=\"color: #ff00ff; text-decoration-color: #ff00ff; font-weight: bold\">module</span><span style=\"color: #000000; text-decoration-color: #000000\"> </span><span style=\"color: #008000; text-decoration-color: #008000\">'builtins'</span><span style=\"color: #000000; text-decoration-color: #000000\"> </span><span style=\"color: #000000; text-decoration-color: #000000; font-weight: bold\">(</span><span style=\"color: #000000; text-decoration-color: #000000\">built-in</span><span style=\"color: #000000; text-decoration-color: #000000; font-weight: bold\">)</span><span style=\"font-weight: bold\">&gt;</span>,\n",
       "    <span style=\"color: #008000; text-decoration-color: #008000\">'__builtins__'</span>: <span style=\"font-weight: bold\">&lt;</span><span style=\"color: #ff00ff; text-decoration-color: #ff00ff; font-weight: bold\">module</span><span style=\"color: #000000; text-decoration-color: #000000\"> </span><span style=\"color: #008000; text-decoration-color: #008000\">'builtins'</span><span style=\"color: #000000; text-decoration-color: #000000\"> </span><span style=\"color: #000000; text-decoration-color: #000000; font-weight: bold\">(</span><span style=\"color: #000000; text-decoration-color: #000000\">built-in</span><span style=\"color: #000000; text-decoration-color: #000000; font-weight: bold\">)</span><span style=\"font-weight: bold\">&gt;</span>,\n",
       "    <span style=\"color: #008000; text-decoration-color: #008000\">'_ih'</span>: <span style=\"font-weight: bold\">[</span>\n",
       "        <span style=\"color: #008000; text-decoration-color: #008000\">''</span>,\n",
       "        <span style=\"color: #008000; text-decoration-color: #008000\">'print(\"Hey print(), why can\\'t you be colourful??\")'</span>,\n",
       "        <span style=\"color: #008000; text-decoration-color: #008000\">'from rich import print\\nprint(\"[bold magenta] Look,Am so colourful now!![/bold magenta]\")'</span>,\n",
       "        <span style=\"color: #008000; text-decoration-color: #008000\">'print(\"Rich makes the text [bold magenta] look so Rich [/bold magenta]\")'</span>,\n",
       "        <span style=\"color: #008000; text-decoration-color: #008000\">'\"\"\"\\nThe actual output for print(locals()) would be :\\n\\n{\\'__name__\\': \\'__main__\\', \\'__doc__\\': </span>\n",
       "<span style=\"color: #008000; text-decoration-color: #008000\">\\'Automatically created module for IPython interactive environment\\', \\\\\\n\\'__package__\\': None,\\'__loader__\\': </span>\n",
       "<span style=\"color: #008000; text-decoration-color: #008000\">None, \\'__spec__\\': None, \\'__builtin__\\': &lt;module \\'builtins\\' (built-in)&gt;,\\\\\\n\\'__builtins__\\': &lt;module </span>\n",
       "<span style=\"color: #008000; text-decoration-color: #008000\">\\'builtins\\' (built-in)&gt;,\\\\\\n\\'_ih\\': [\\'\\', \\'print(locals())\\'], \\'_oh\\': {}, \\'_dh\\': </span>\n",
       "<span style=\"color: #008000; text-decoration-color: #008000\">[WindowsPath(\\'C:/Users/jashw/Desktop/practice\\')], \\\\\\n\\'In\\': [\\'\\', \\'print(locals())\\'], \\'Out\\': {}, </span>\n",
       "<span style=\"color: #008000; text-decoration-color: #008000\">\\'get_ipython\\': &lt;bound method InteractiveShell.get_ipython \\\\\\nof &lt;ipykernel.zmqshell.ZMQInteractiveShell object </span>\n",
       "<span style=\"color: #008000; text-decoration-color: #008000\">at 0x000001D4F8F34970&gt;&gt;, \\\\\\n\\'exit\\': &lt;IPython.core.autocall.ZMQExitAutocall object at </span>\n",
       "<span style=\"color: #008000; text-decoration-color: #008000\">0x000001D4F8F37400&gt;,\\\\\\n\\'quit\\': &lt;IPython.core.autocall.ZMQExitAutocall object at 0x000001D4F8F37400&gt;, \\\\\\n\\'_\\': </span>\n",
       "<span style=\"color: #008000; text-decoration-color: #008000\">\\'\\', \\'__\\': \\'\\', \\'___\\': \\'\\', \\'_i\\': \\'\\', \\'_ii\\': \\'\\', \\'_iii\\': \\'\\', \\'_i1\\': </span>\n",
       "<span style=\"color: #008000; text-decoration-color: #008000\">\\'print(locals())\\'}\\n\\nNow see the magic with rich.print()\\n\"\"\"\\nprint(locals());'</span>\n",
       "    <span style=\"font-weight: bold\">]</span>,\n",
       "    <span style=\"color: #008000; text-decoration-color: #008000\">'_oh'</span>: <span style=\"font-weight: bold\">{}</span>,\n",
       "    <span style=\"color: #008000; text-decoration-color: #008000\">'_dh'</span>: <span style=\"font-weight: bold\">[</span><span style=\"color: #800080; text-decoration-color: #800080; font-weight: bold\">WindowsPath</span><span style=\"font-weight: bold\">(</span><span style=\"color: #008000; text-decoration-color: #008000\">'C:/Users/jashw/Desktop/practice'</span><span style=\"font-weight: bold\">)]</span>,\n",
       "    <span style=\"color: #008000; text-decoration-color: #008000\">'In'</span>: <span style=\"font-weight: bold\">[</span>\n",
       "        <span style=\"color: #008000; text-decoration-color: #008000\">''</span>,\n",
       "        <span style=\"color: #008000; text-decoration-color: #008000\">'print(\"Hey print(), why can\\'t you be colourful??\")'</span>,\n",
       "        <span style=\"color: #008000; text-decoration-color: #008000\">'from rich import print\\nprint(\"[bold magenta] Look,Am so colourful now!![/bold magenta]\")'</span>,\n",
       "        <span style=\"color: #008000; text-decoration-color: #008000\">'print(\"Rich makes the text [bold magenta] look so Rich [/bold magenta]\")'</span>,\n",
       "        <span style=\"color: #008000; text-decoration-color: #008000\">'\"\"\"\\nThe actual output for print(locals()) would be :\\n\\n{\\'__name__\\': \\'__main__\\', \\'__doc__\\': </span>\n",
       "<span style=\"color: #008000; text-decoration-color: #008000\">\\'Automatically created module for IPython interactive environment\\', \\\\\\n\\'__package__\\': None,\\'__loader__\\': </span>\n",
       "<span style=\"color: #008000; text-decoration-color: #008000\">None, \\'__spec__\\': None, \\'__builtin__\\': &lt;module \\'builtins\\' (built-in)&gt;,\\\\\\n\\'__builtins__\\': &lt;module </span>\n",
       "<span style=\"color: #008000; text-decoration-color: #008000\">\\'builtins\\' (built-in)&gt;,\\\\\\n\\'_ih\\': [\\'\\', \\'print(locals())\\'], \\'_oh\\': {}, \\'_dh\\': </span>\n",
       "<span style=\"color: #008000; text-decoration-color: #008000\">[WindowsPath(\\'C:/Users/jashw/Desktop/practice\\')], \\\\\\n\\'In\\': [\\'\\', \\'print(locals())\\'], \\'Out\\': {}, </span>\n",
       "<span style=\"color: #008000; text-decoration-color: #008000\">\\'get_ipython\\': &lt;bound method InteractiveShell.get_ipython \\\\\\nof &lt;ipykernel.zmqshell.ZMQInteractiveShell object </span>\n",
       "<span style=\"color: #008000; text-decoration-color: #008000\">at 0x000001D4F8F34970&gt;&gt;, \\\\\\n\\'exit\\': &lt;IPython.core.autocall.ZMQExitAutocall object at </span>\n",
       "<span style=\"color: #008000; text-decoration-color: #008000\">0x000001D4F8F37400&gt;,\\\\\\n\\'quit\\': &lt;IPython.core.autocall.ZMQExitAutocall object at 0x000001D4F8F37400&gt;, \\\\\\n\\'_\\': </span>\n",
       "<span style=\"color: #008000; text-decoration-color: #008000\">\\'\\', \\'__\\': \\'\\', \\'___\\': \\'\\', \\'_i\\': \\'\\', \\'_ii\\': \\'\\', \\'_iii\\': \\'\\', \\'_i1\\': </span>\n",
       "<span style=\"color: #008000; text-decoration-color: #008000\">\\'print(locals())\\'}\\n\\nNow see the magic with rich.print()\\n\"\"\"\\nprint(locals());'</span>\n",
       "    <span style=\"font-weight: bold\">]</span>,\n",
       "    <span style=\"color: #008000; text-decoration-color: #008000\">'Out'</span>: <span style=\"font-weight: bold\">{}</span>,\n",
       "    <span style=\"color: #008000; text-decoration-color: #008000\">'get_ipython'</span>: <span style=\"font-weight: bold\">&lt;</span><span style=\"color: #ff00ff; text-decoration-color: #ff00ff; font-weight: bold\">bound</span><span style=\"color: #000000; text-decoration-color: #000000\"> method InteractiveShell.get_ipython of &lt;ipykernel.zmqshell.ZMQInteractiveShell object at </span>\n",
       "<span style=\"color: #008080; text-decoration-color: #008080; font-weight: bold\">0x0000014997D80A00</span><span style=\"font-weight: bold\">&gt;</span>&gt;,\n",
       "    <span style=\"color: #008000; text-decoration-color: #008000\">'exit'</span>: <span style=\"font-weight: bold\">&lt;</span><span style=\"color: #ff00ff; text-decoration-color: #ff00ff; font-weight: bold\">IPython.core.autocall.ZMQExitAutocall</span><span style=\"color: #000000; text-decoration-color: #000000\"> object at </span><span style=\"color: #008080; text-decoration-color: #008080; font-weight: bold\">0x0000014997D803A0</span><span style=\"font-weight: bold\">&gt;</span>,\n",
       "    <span style=\"color: #008000; text-decoration-color: #008000\">'quit'</span>: <span style=\"font-weight: bold\">&lt;</span><span style=\"color: #ff00ff; text-decoration-color: #ff00ff; font-weight: bold\">IPython.core.autocall.ZMQExitAutocall</span><span style=\"color: #000000; text-decoration-color: #000000\"> object at </span><span style=\"color: #008080; text-decoration-color: #008080; font-weight: bold\">0x0000014997D803A0</span><span style=\"font-weight: bold\">&gt;</span>,\n",
       "    <span style=\"color: #008000; text-decoration-color: #008000\">'_'</span>: <span style=\"color: #008000; text-decoration-color: #008000\">''</span>,\n",
       "    <span style=\"color: #008000; text-decoration-color: #008000\">'__'</span>: <span style=\"color: #008000; text-decoration-color: #008000\">''</span>,\n",
       "    <span style=\"color: #008000; text-decoration-color: #008000\">'___'</span>: <span style=\"color: #008000; text-decoration-color: #008000\">''</span>,\n",
       "    <span style=\"color: #008000; text-decoration-color: #008000\">'_i'</span>: <span style=\"color: #008000; text-decoration-color: #008000\">'print(\"Rich makes the text [bold magenta] look so Rich [/bold magenta]\")'</span>,\n",
       "    <span style=\"color: #008000; text-decoration-color: #008000\">'_ii'</span>: <span style=\"color: #008000; text-decoration-color: #008000\">'from rich import print\\nprint(\"[bold magenta] Look,Am so colourful now!![/bold magenta]\")'</span>,\n",
       "    <span style=\"color: #008000; text-decoration-color: #008000\">'_iii'</span>: <span style=\"color: #008000; text-decoration-color: #008000\">'print(\"Hey print(), why can\\'t you be colourful??\")'</span>,\n",
       "    <span style=\"color: #008000; text-decoration-color: #008000\">'_i1'</span>: <span style=\"color: #008000; text-decoration-color: #008000\">'print(\"Hey print(), why can\\'t you be colourful??\")'</span>,\n",
       "    <span style=\"color: #008000; text-decoration-color: #008000\">'_i2'</span>: <span style=\"color: #008000; text-decoration-color: #008000\">'from rich import print\\nprint(\"[bold magenta] Look,Am so colourful now!![/bold magenta]\")'</span>,\n",
       "    <span style=\"color: #008000; text-decoration-color: #008000\">'print'</span>: <span style=\"font-weight: bold\">&lt;</span><span style=\"color: #ff00ff; text-decoration-color: #ff00ff; font-weight: bold\">function</span><span style=\"color: #000000; text-decoration-color: #000000\"> print at </span><span style=\"color: #008080; text-decoration-color: #008080; font-weight: bold\">0x0000014997D7B400</span><span style=\"font-weight: bold\">&gt;</span>,\n",
       "    <span style=\"color: #008000; text-decoration-color: #008000\">'_i3'</span>: <span style=\"color: #008000; text-decoration-color: #008000\">'print(\"Rich makes the text [bold magenta] look so Rich [/bold magenta]\")'</span>,\n",
       "    <span style=\"color: #008000; text-decoration-color: #008000\">'_i4'</span>: <span style=\"color: #008000; text-decoration-color: #008000\">'\"\"\"\\nThe actual output for print(locals()) would be :\\n\\n{\\'__name__\\': \\'__main__\\', \\'__doc__\\': </span>\n",
       "<span style=\"color: #008000; text-decoration-color: #008000\">\\'Automatically created module for IPython interactive environment\\', \\\\\\n\\'__package__\\': None,\\'__loader__\\': </span>\n",
       "<span style=\"color: #008000; text-decoration-color: #008000\">None, \\'__spec__\\': None, \\'__builtin__\\': &lt;module \\'builtins\\' (built-in)&gt;,\\\\\\n\\'__builtins__\\': &lt;module </span>\n",
       "<span style=\"color: #008000; text-decoration-color: #008000\">\\'builtins\\' (built-in)&gt;,\\\\\\n\\'_ih\\': [\\'\\', \\'print(locals())\\'], \\'_oh\\': {}, \\'_dh\\': </span>\n",
       "<span style=\"color: #008000; text-decoration-color: #008000\">[WindowsPath(\\'C:/Users/jashw/Desktop/practice\\')], \\\\\\n\\'In\\': [\\'\\', \\'print(locals())\\'], \\'Out\\': {}, </span>\n",
       "<span style=\"color: #008000; text-decoration-color: #008000\">\\'get_ipython\\': &lt;bound method InteractiveShell.get_ipython \\\\\\nof &lt;ipykernel.zmqshell.ZMQInteractiveShell object </span>\n",
       "<span style=\"color: #008000; text-decoration-color: #008000\">at 0x000001D4F8F34970&gt;&gt;, \\\\\\n\\'exit\\': &lt;IPython.core.autocall.ZMQExitAutocall object at </span>\n",
       "<span style=\"color: #008000; text-decoration-color: #008000\">0x000001D4F8F37400&gt;,\\\\\\n\\'quit\\': &lt;IPython.core.autocall.ZMQExitAutocall object at 0x000001D4F8F37400&gt;, \\\\\\n\\'_\\': </span>\n",
       "<span style=\"color: #008000; text-decoration-color: #008000\">\\'\\', \\'__\\': \\'\\', \\'___\\': \\'\\', \\'_i\\': \\'\\', \\'_ii\\': \\'\\', \\'_iii\\': \\'\\', \\'_i1\\': </span>\n",
       "<span style=\"color: #008000; text-decoration-color: #008000\">\\'print(locals())\\'}\\n\\nNow see the magic with rich.print()\\n\"\"\"\\nprint(locals());'</span>\n",
       "<span style=\"font-weight: bold\">}</span>\n",
       "</pre>\n"
      ],
      "text/plain": [
       "\u001b[1m{\u001b[0m\n",
       "    \u001b[32m'__name__'\u001b[0m: \u001b[32m'__main__'\u001b[0m,\n",
       "    \u001b[32m'__doc__'\u001b[0m: \u001b[32m\"\\nThe actual output for print\u001b[0m\u001b[32m(\u001b[0m\u001b[32mlocals\u001b[0m\u001b[32m(\u001b[0m\u001b[32m)\u001b[0m\u001b[32m)\u001b[0m\u001b[32m would be :\\n\\n\u001b[0m\u001b[32m{\u001b[0m\u001b[32m'__name__': '__main__', '__doc__': \u001b[0m\n",
       "\u001b[32m'Automatically created module for IPython interactive environment', '__package__': None,'__loader__': None, \u001b[0m\n",
       "\u001b[32m'__spec__': None, '__builtin__': \u001b[0m\u001b[32m<\u001b[0m\u001b[32mmodule\u001b[0m\u001b[32m 'builtins' \u001b[0m\u001b[32m(\u001b[0m\u001b[32mbuilt-in\u001b[0m\u001b[32m)\u001b[0m\u001b[32m>\u001b[0m\u001b[32m,'__builtins__': \u001b[0m\u001b[32m<\u001b[0m\u001b[32mmodule\u001b[0m\u001b[32m 'builtins' \u001b[0m\n",
       "\u001b[32m(\u001b[0m\u001b[32mbuilt-in\u001b[0m\u001b[32m)\u001b[0m\u001b[32m>\u001b[0m\u001b[32m,'_ih': \u001b[0m\u001b[32m[\u001b[0m\u001b[32m'', 'print\u001b[0m\u001b[32m(\u001b[0m\u001b[32mlocals\u001b[0m\u001b[32m(\u001b[0m\u001b[32m)\u001b[0m\u001b[32m)\u001b[0m\u001b[32m'\u001b[0m\u001b[32m]\u001b[0m\u001b[32m, '_oh': \u001b[0m\u001b[32m{\u001b[0m\u001b[32m}\u001b[0m\u001b[32m, '_dh': \u001b[0m\u001b[32m[\u001b[0m\u001b[32mWindowsPath\u001b[0m\u001b[32m(\u001b[0m\u001b[32m'C:/Users/jashw/Desktop/practice'\u001b[0m\u001b[32m)\u001b[0m\u001b[32m]\u001b[0m\u001b[32m, \u001b[0m\n",
       "\u001b[32m'In': \u001b[0m\u001b[32m[\u001b[0m\u001b[32m'', 'print\u001b[0m\u001b[32m(\u001b[0m\u001b[32mlocals\u001b[0m\u001b[32m(\u001b[0m\u001b[32m)\u001b[0m\u001b[32m)\u001b[0m\u001b[32m'\u001b[0m\u001b[32m]\u001b[0m\u001b[32m, 'Out': \u001b[0m\u001b[32m{\u001b[0m\u001b[32m}\u001b[0m\u001b[32m, 'get_ipython': \u001b[0m\u001b[32m<\u001b[0m\u001b[32mbound\u001b[0m\u001b[32m method InteractiveShell.get_ipython of \u001b[0m\n",
       "\u001b[32m<ipykernel.zmqshell.ZMQInteractiveShell object at 0x000001D4F8F34970\u001b[0m\u001b[32m>\u001b[0m\u001b[32m>, 'exit': \u001b[0m\n",
       "\u001b[32m<\u001b[0m\u001b[32mIPython.core.autocall.ZMQExitAutocall\u001b[0m\u001b[32m object at 0x000001D4F8F37400\u001b[0m\u001b[32m>\u001b[0m\u001b[32m,'quit': \u001b[0m\u001b[32m<\u001b[0m\u001b[32mIPython.core.autocall.ZMQExitAutocall\u001b[0m\n",
       "\u001b[32mobject at 0x000001D4F8F37400\u001b[0m\u001b[32m>\u001b[0m\u001b[32m, '_': '', '__': '', '___': '', '_i': '', '_ii': '', '_iii': '', '_i1': \u001b[0m\n",
       "\u001b[32m'print\u001b[0m\u001b[32m(\u001b[0m\u001b[32mlocals\u001b[0m\u001b[32m(\u001b[0m\u001b[32m)\u001b[0m\u001b[32m)\u001b[0m\u001b[32m'\u001b[0m\u001b[32m}\u001b[0m\u001b[32m\\n\\nNow see the magic with rich.print\u001b[0m\u001b[32m(\u001b[0m\u001b[32m)\u001b[0m\u001b[32m\\n\"\u001b[0m,\n",
       "    \u001b[32m'__package__'\u001b[0m: \u001b[3;35mNone\u001b[0m,\n",
       "    \u001b[32m'__loader__'\u001b[0m: \u001b[3;35mNone\u001b[0m,\n",
       "    \u001b[32m'__spec__'\u001b[0m: \u001b[3;35mNone\u001b[0m,\n",
       "    \u001b[32m'__builtin__'\u001b[0m: \u001b[1m<\u001b[0m\u001b[1;95mmodule\u001b[0m\u001b[39m \u001b[0m\u001b[32m'builtins'\u001b[0m\u001b[39m \u001b[0m\u001b[1;39m(\u001b[0m\u001b[39mbuilt-in\u001b[0m\u001b[1;39m)\u001b[0m\u001b[1m>\u001b[0m,\n",
       "    \u001b[32m'__builtins__'\u001b[0m: \u001b[1m<\u001b[0m\u001b[1;95mmodule\u001b[0m\u001b[39m \u001b[0m\u001b[32m'builtins'\u001b[0m\u001b[39m \u001b[0m\u001b[1;39m(\u001b[0m\u001b[39mbuilt-in\u001b[0m\u001b[1;39m)\u001b[0m\u001b[1m>\u001b[0m,\n",
       "    \u001b[32m'_ih'\u001b[0m: \u001b[1m[\u001b[0m\n",
       "        \u001b[32m''\u001b[0m,\n",
       "        \u001b[32m'print\u001b[0m\u001b[32m(\u001b[0m\u001b[32m\"Hey print\u001b[0m\u001b[32m(\u001b[0m\u001b[32m)\u001b[0m\u001b[32m, why can\\'t you be colourful??\"\u001b[0m\u001b[32m)\u001b[0m\u001b[32m'\u001b[0m,\n",
       "        \u001b[32m'from rich import print\\nprint\u001b[0m\u001b[32m(\u001b[0m\u001b[32m\"\u001b[0m\u001b[32m[\u001b[0m\u001b[32mbold magenta\u001b[0m\u001b[32m]\u001b[0m\u001b[32m Look,Am so colourful now!!\u001b[0m\u001b[32m[\u001b[0m\u001b[32m/bold magenta\u001b[0m\u001b[32m]\u001b[0m\u001b[32m\"\u001b[0m\u001b[32m)\u001b[0m\u001b[32m'\u001b[0m,\n",
       "        \u001b[32m'print\u001b[0m\u001b[32m(\u001b[0m\u001b[32m\"Rich makes the text \u001b[0m\u001b[32m[\u001b[0m\u001b[32mbold magenta\u001b[0m\u001b[32m]\u001b[0m\u001b[32m look so Rich \u001b[0m\u001b[32m[\u001b[0m\u001b[32m/bold magenta\u001b[0m\u001b[32m]\u001b[0m\u001b[32m\"\u001b[0m\u001b[32m)\u001b[0m\u001b[32m'\u001b[0m,\n",
       "        \u001b[32m'\"\"\"\\nThe actual output for print\u001b[0m\u001b[32m(\u001b[0m\u001b[32mlocals\u001b[0m\u001b[32m(\u001b[0m\u001b[32m)\u001b[0m\u001b[32m)\u001b[0m\u001b[32m would be :\\n\\n\u001b[0m\u001b[32m{\u001b[0m\u001b[32m\\'__name__\\': \\'__main__\\', \\'__doc__\\': \u001b[0m\n",
       "\u001b[32m\\'Automatically created module for IPython interactive environment\\', \\\\\\n\\'__package__\\': None,\\'__loader__\\': \u001b[0m\n",
       "\u001b[32mNone, \\'__spec__\\': None, \\'__builtin__\\': \u001b[0m\u001b[32m<\u001b[0m\u001b[32mmodule\u001b[0m\u001b[32m \\'builtins\\' \u001b[0m\u001b[32m(\u001b[0m\u001b[32mbuilt-in\u001b[0m\u001b[32m)\u001b[0m\u001b[32m>\u001b[0m\u001b[32m,\\\\\\n\\'__builtins__\\': \u001b[0m\u001b[32m<\u001b[0m\u001b[32mmodule\u001b[0m\u001b[32m \u001b[0m\n",
       "\u001b[32m\\'builtins\\' \u001b[0m\u001b[32m(\u001b[0m\u001b[32mbuilt-in\u001b[0m\u001b[32m)\u001b[0m\u001b[32m>\u001b[0m\u001b[32m,\\\\\\n\\'_ih\\': \u001b[0m\u001b[32m[\u001b[0m\u001b[32m\\'\\', \\'print\u001b[0m\u001b[32m(\u001b[0m\u001b[32mlocals\u001b[0m\u001b[32m(\u001b[0m\u001b[32m)\u001b[0m\u001b[32m)\u001b[0m\u001b[32m\\'\u001b[0m\u001b[32m]\u001b[0m\u001b[32m, \\'_oh\\': \u001b[0m\u001b[32m{\u001b[0m\u001b[32m}\u001b[0m\u001b[32m, \\'_dh\\': \u001b[0m\n",
       "\u001b[32m[\u001b[0m\u001b[32mWindowsPath\u001b[0m\u001b[32m(\u001b[0m\u001b[32m\\'C:/Users/jashw/Desktop/practice\\'\u001b[0m\u001b[32m)\u001b[0m\u001b[32m]\u001b[0m\u001b[32m, \\\\\\n\\'In\\': \u001b[0m\u001b[32m[\u001b[0m\u001b[32m\\'\\', \\'print\u001b[0m\u001b[32m(\u001b[0m\u001b[32mlocals\u001b[0m\u001b[32m(\u001b[0m\u001b[32m)\u001b[0m\u001b[32m)\u001b[0m\u001b[32m\\'\u001b[0m\u001b[32m]\u001b[0m\u001b[32m, \\'Out\\': \u001b[0m\u001b[32m{\u001b[0m\u001b[32m}\u001b[0m\u001b[32m, \u001b[0m\n",
       "\u001b[32m\\'get_ipython\\': \u001b[0m\u001b[32m<\u001b[0m\u001b[32mbound\u001b[0m\u001b[32m method InteractiveShell.get_ipython \\\\\\nof <ipykernel.zmqshell.ZMQInteractiveShell object \u001b[0m\n",
       "\u001b[32mat 0x000001D4F8F34970\u001b[0m\u001b[32m>\u001b[0m\u001b[32m>, \\\\\\n\\'exit\\': \u001b[0m\u001b[32m<\u001b[0m\u001b[32mIPython.core.autocall.ZMQExitAutocall\u001b[0m\u001b[32m object at \u001b[0m\n",
       "\u001b[32m0x000001D4F8F37400\u001b[0m\u001b[32m>\u001b[0m\u001b[32m,\\\\\\n\\'quit\\': \u001b[0m\u001b[32m<\u001b[0m\u001b[32mIPython.core.autocall.ZMQExitAutocall\u001b[0m\u001b[32m object at 0x000001D4F8F37400\u001b[0m\u001b[32m>\u001b[0m\u001b[32m, \\\\\\n\\'_\\': \u001b[0m\n",
       "\u001b[32m\\'\\', \\'__\\': \\'\\', \\'___\\': \\'\\', \\'_i\\': \\'\\', \\'_ii\\': \\'\\', \\'_iii\\': \\'\\', \\'_i1\\': \u001b[0m\n",
       "\u001b[32m\\'print\u001b[0m\u001b[32m(\u001b[0m\u001b[32mlocals\u001b[0m\u001b[32m(\u001b[0m\u001b[32m)\u001b[0m\u001b[32m)\u001b[0m\u001b[32m\\'\u001b[0m\u001b[32m}\u001b[0m\u001b[32m\\n\\nNow see the magic with rich.print\u001b[0m\u001b[32m(\u001b[0m\u001b[32m)\u001b[0m\u001b[32m\\n\"\"\"\\nprint\u001b[0m\u001b[32m(\u001b[0m\u001b[32mlocals\u001b[0m\u001b[32m(\u001b[0m\u001b[32m)\u001b[0m\u001b[32m)\u001b[0m\u001b[32m;'\u001b[0m\n",
       "    \u001b[1m]\u001b[0m,\n",
       "    \u001b[32m'_oh'\u001b[0m: \u001b[1m{\u001b[0m\u001b[1m}\u001b[0m,\n",
       "    \u001b[32m'_dh'\u001b[0m: \u001b[1m[\u001b[0m\u001b[1;35mWindowsPath\u001b[0m\u001b[1m(\u001b[0m\u001b[32m'C:/Users/jashw/Desktop/practice'\u001b[0m\u001b[1m)\u001b[0m\u001b[1m]\u001b[0m,\n",
       "    \u001b[32m'In'\u001b[0m: \u001b[1m[\u001b[0m\n",
       "        \u001b[32m''\u001b[0m,\n",
       "        \u001b[32m'print\u001b[0m\u001b[32m(\u001b[0m\u001b[32m\"Hey print\u001b[0m\u001b[32m(\u001b[0m\u001b[32m)\u001b[0m\u001b[32m, why can\\'t you be colourful??\"\u001b[0m\u001b[32m)\u001b[0m\u001b[32m'\u001b[0m,\n",
       "        \u001b[32m'from rich import print\\nprint\u001b[0m\u001b[32m(\u001b[0m\u001b[32m\"\u001b[0m\u001b[32m[\u001b[0m\u001b[32mbold magenta\u001b[0m\u001b[32m]\u001b[0m\u001b[32m Look,Am so colourful now!!\u001b[0m\u001b[32m[\u001b[0m\u001b[32m/bold magenta\u001b[0m\u001b[32m]\u001b[0m\u001b[32m\"\u001b[0m\u001b[32m)\u001b[0m\u001b[32m'\u001b[0m,\n",
       "        \u001b[32m'print\u001b[0m\u001b[32m(\u001b[0m\u001b[32m\"Rich makes the text \u001b[0m\u001b[32m[\u001b[0m\u001b[32mbold magenta\u001b[0m\u001b[32m]\u001b[0m\u001b[32m look so Rich \u001b[0m\u001b[32m[\u001b[0m\u001b[32m/bold magenta\u001b[0m\u001b[32m]\u001b[0m\u001b[32m\"\u001b[0m\u001b[32m)\u001b[0m\u001b[32m'\u001b[0m,\n",
       "        \u001b[32m'\"\"\"\\nThe actual output for print\u001b[0m\u001b[32m(\u001b[0m\u001b[32mlocals\u001b[0m\u001b[32m(\u001b[0m\u001b[32m)\u001b[0m\u001b[32m)\u001b[0m\u001b[32m would be :\\n\\n\u001b[0m\u001b[32m{\u001b[0m\u001b[32m\\'__name__\\': \\'__main__\\', \\'__doc__\\': \u001b[0m\n",
       "\u001b[32m\\'Automatically created module for IPython interactive environment\\', \\\\\\n\\'__package__\\': None,\\'__loader__\\': \u001b[0m\n",
       "\u001b[32mNone, \\'__spec__\\': None, \\'__builtin__\\': \u001b[0m\u001b[32m<\u001b[0m\u001b[32mmodule\u001b[0m\u001b[32m \\'builtins\\' \u001b[0m\u001b[32m(\u001b[0m\u001b[32mbuilt-in\u001b[0m\u001b[32m)\u001b[0m\u001b[32m>\u001b[0m\u001b[32m,\\\\\\n\\'__builtins__\\': \u001b[0m\u001b[32m<\u001b[0m\u001b[32mmodule\u001b[0m\u001b[32m \u001b[0m\n",
       "\u001b[32m\\'builtins\\' \u001b[0m\u001b[32m(\u001b[0m\u001b[32mbuilt-in\u001b[0m\u001b[32m)\u001b[0m\u001b[32m>\u001b[0m\u001b[32m,\\\\\\n\\'_ih\\': \u001b[0m\u001b[32m[\u001b[0m\u001b[32m\\'\\', \\'print\u001b[0m\u001b[32m(\u001b[0m\u001b[32mlocals\u001b[0m\u001b[32m(\u001b[0m\u001b[32m)\u001b[0m\u001b[32m)\u001b[0m\u001b[32m\\'\u001b[0m\u001b[32m]\u001b[0m\u001b[32m, \\'_oh\\': \u001b[0m\u001b[32m{\u001b[0m\u001b[32m}\u001b[0m\u001b[32m, \\'_dh\\': \u001b[0m\n",
       "\u001b[32m[\u001b[0m\u001b[32mWindowsPath\u001b[0m\u001b[32m(\u001b[0m\u001b[32m\\'C:/Users/jashw/Desktop/practice\\'\u001b[0m\u001b[32m)\u001b[0m\u001b[32m]\u001b[0m\u001b[32m, \\\\\\n\\'In\\': \u001b[0m\u001b[32m[\u001b[0m\u001b[32m\\'\\', \\'print\u001b[0m\u001b[32m(\u001b[0m\u001b[32mlocals\u001b[0m\u001b[32m(\u001b[0m\u001b[32m)\u001b[0m\u001b[32m)\u001b[0m\u001b[32m\\'\u001b[0m\u001b[32m]\u001b[0m\u001b[32m, \\'Out\\': \u001b[0m\u001b[32m{\u001b[0m\u001b[32m}\u001b[0m\u001b[32m, \u001b[0m\n",
       "\u001b[32m\\'get_ipython\\': \u001b[0m\u001b[32m<\u001b[0m\u001b[32mbound\u001b[0m\u001b[32m method InteractiveShell.get_ipython \\\\\\nof <ipykernel.zmqshell.ZMQInteractiveShell object \u001b[0m\n",
       "\u001b[32mat 0x000001D4F8F34970\u001b[0m\u001b[32m>\u001b[0m\u001b[32m>, \\\\\\n\\'exit\\': \u001b[0m\u001b[32m<\u001b[0m\u001b[32mIPython.core.autocall.ZMQExitAutocall\u001b[0m\u001b[32m object at \u001b[0m\n",
       "\u001b[32m0x000001D4F8F37400\u001b[0m\u001b[32m>\u001b[0m\u001b[32m,\\\\\\n\\'quit\\': \u001b[0m\u001b[32m<\u001b[0m\u001b[32mIPython.core.autocall.ZMQExitAutocall\u001b[0m\u001b[32m object at 0x000001D4F8F37400\u001b[0m\u001b[32m>\u001b[0m\u001b[32m, \\\\\\n\\'_\\': \u001b[0m\n",
       "\u001b[32m\\'\\', \\'__\\': \\'\\', \\'___\\': \\'\\', \\'_i\\': \\'\\', \\'_ii\\': \\'\\', \\'_iii\\': \\'\\', \\'_i1\\': \u001b[0m\n",
       "\u001b[32m\\'print\u001b[0m\u001b[32m(\u001b[0m\u001b[32mlocals\u001b[0m\u001b[32m(\u001b[0m\u001b[32m)\u001b[0m\u001b[32m)\u001b[0m\u001b[32m\\'\u001b[0m\u001b[32m}\u001b[0m\u001b[32m\\n\\nNow see the magic with rich.print\u001b[0m\u001b[32m(\u001b[0m\u001b[32m)\u001b[0m\u001b[32m\\n\"\"\"\\nprint\u001b[0m\u001b[32m(\u001b[0m\u001b[32mlocals\u001b[0m\u001b[32m(\u001b[0m\u001b[32m)\u001b[0m\u001b[32m)\u001b[0m\u001b[32m;'\u001b[0m\n",
       "    \u001b[1m]\u001b[0m,\n",
       "    \u001b[32m'Out'\u001b[0m: \u001b[1m{\u001b[0m\u001b[1m}\u001b[0m,\n",
       "    \u001b[32m'get_ipython'\u001b[0m: \u001b[1m<\u001b[0m\u001b[1;95mbound\u001b[0m\u001b[39m method InteractiveShell.get_ipython of <ipykernel.zmqshell.ZMQInteractiveShell object at \u001b[0m\n",
       "\u001b[1;36m0x0000014997D80A00\u001b[0m\u001b[1m>\u001b[0m>,\n",
       "    \u001b[32m'exit'\u001b[0m: \u001b[1m<\u001b[0m\u001b[1;95mIPython.core.autocall.ZMQExitAutocall\u001b[0m\u001b[39m object at \u001b[0m\u001b[1;36m0x0000014997D803A0\u001b[0m\u001b[1m>\u001b[0m,\n",
       "    \u001b[32m'quit'\u001b[0m: \u001b[1m<\u001b[0m\u001b[1;95mIPython.core.autocall.ZMQExitAutocall\u001b[0m\u001b[39m object at \u001b[0m\u001b[1;36m0x0000014997D803A0\u001b[0m\u001b[1m>\u001b[0m,\n",
       "    \u001b[32m'_'\u001b[0m: \u001b[32m''\u001b[0m,\n",
       "    \u001b[32m'__'\u001b[0m: \u001b[32m''\u001b[0m,\n",
       "    \u001b[32m'___'\u001b[0m: \u001b[32m''\u001b[0m,\n",
       "    \u001b[32m'_i'\u001b[0m: \u001b[32m'print\u001b[0m\u001b[32m(\u001b[0m\u001b[32m\"Rich makes the text \u001b[0m\u001b[32m[\u001b[0m\u001b[32mbold magenta\u001b[0m\u001b[32m]\u001b[0m\u001b[32m look so Rich \u001b[0m\u001b[32m[\u001b[0m\u001b[32m/bold magenta\u001b[0m\u001b[32m]\u001b[0m\u001b[32m\"\u001b[0m\u001b[32m)\u001b[0m\u001b[32m'\u001b[0m,\n",
       "    \u001b[32m'_ii'\u001b[0m: \u001b[32m'from rich import print\\nprint\u001b[0m\u001b[32m(\u001b[0m\u001b[32m\"\u001b[0m\u001b[32m[\u001b[0m\u001b[32mbold magenta\u001b[0m\u001b[32m]\u001b[0m\u001b[32m Look,Am so colourful now!!\u001b[0m\u001b[32m[\u001b[0m\u001b[32m/bold magenta\u001b[0m\u001b[32m]\u001b[0m\u001b[32m\"\u001b[0m\u001b[32m)\u001b[0m\u001b[32m'\u001b[0m,\n",
       "    \u001b[32m'_iii'\u001b[0m: \u001b[32m'print\u001b[0m\u001b[32m(\u001b[0m\u001b[32m\"Hey print\u001b[0m\u001b[32m(\u001b[0m\u001b[32m)\u001b[0m\u001b[32m, why can\\'t you be colourful??\"\u001b[0m\u001b[32m)\u001b[0m\u001b[32m'\u001b[0m,\n",
       "    \u001b[32m'_i1'\u001b[0m: \u001b[32m'print\u001b[0m\u001b[32m(\u001b[0m\u001b[32m\"Hey print\u001b[0m\u001b[32m(\u001b[0m\u001b[32m)\u001b[0m\u001b[32m, why can\\'t you be colourful??\"\u001b[0m\u001b[32m)\u001b[0m\u001b[32m'\u001b[0m,\n",
       "    \u001b[32m'_i2'\u001b[0m: \u001b[32m'from rich import print\\nprint\u001b[0m\u001b[32m(\u001b[0m\u001b[32m\"\u001b[0m\u001b[32m[\u001b[0m\u001b[32mbold magenta\u001b[0m\u001b[32m]\u001b[0m\u001b[32m Look,Am so colourful now!!\u001b[0m\u001b[32m[\u001b[0m\u001b[32m/bold magenta\u001b[0m\u001b[32m]\u001b[0m\u001b[32m\"\u001b[0m\u001b[32m)\u001b[0m\u001b[32m'\u001b[0m,\n",
       "    \u001b[32m'print'\u001b[0m: \u001b[1m<\u001b[0m\u001b[1;95mfunction\u001b[0m\u001b[39m print at \u001b[0m\u001b[1;36m0x0000014997D7B400\u001b[0m\u001b[1m>\u001b[0m,\n",
       "    \u001b[32m'_i3'\u001b[0m: \u001b[32m'print\u001b[0m\u001b[32m(\u001b[0m\u001b[32m\"Rich makes the text \u001b[0m\u001b[32m[\u001b[0m\u001b[32mbold magenta\u001b[0m\u001b[32m]\u001b[0m\u001b[32m look so Rich \u001b[0m\u001b[32m[\u001b[0m\u001b[32m/bold magenta\u001b[0m\u001b[32m]\u001b[0m\u001b[32m\"\u001b[0m\u001b[32m)\u001b[0m\u001b[32m'\u001b[0m,\n",
       "    \u001b[32m'_i4'\u001b[0m: \u001b[32m'\"\"\"\\nThe actual output for print\u001b[0m\u001b[32m(\u001b[0m\u001b[32mlocals\u001b[0m\u001b[32m(\u001b[0m\u001b[32m)\u001b[0m\u001b[32m)\u001b[0m\u001b[32m would be :\\n\\n\u001b[0m\u001b[32m{\u001b[0m\u001b[32m\\'__name__\\': \\'__main__\\', \\'__doc__\\': \u001b[0m\n",
       "\u001b[32m\\'Automatically created module for IPython interactive environment\\', \\\\\\n\\'__package__\\': None,\\'__loader__\\': \u001b[0m\n",
       "\u001b[32mNone, \\'__spec__\\': None, \\'__builtin__\\': \u001b[0m\u001b[32m<\u001b[0m\u001b[32mmodule\u001b[0m\u001b[32m \\'builtins\\' \u001b[0m\u001b[32m(\u001b[0m\u001b[32mbuilt-in\u001b[0m\u001b[32m)\u001b[0m\u001b[32m>\u001b[0m\u001b[32m,\\\\\\n\\'__builtins__\\': \u001b[0m\u001b[32m<\u001b[0m\u001b[32mmodule\u001b[0m\u001b[32m \u001b[0m\n",
       "\u001b[32m\\'builtins\\' \u001b[0m\u001b[32m(\u001b[0m\u001b[32mbuilt-in\u001b[0m\u001b[32m)\u001b[0m\u001b[32m>\u001b[0m\u001b[32m,\\\\\\n\\'_ih\\': \u001b[0m\u001b[32m[\u001b[0m\u001b[32m\\'\\', \\'print\u001b[0m\u001b[32m(\u001b[0m\u001b[32mlocals\u001b[0m\u001b[32m(\u001b[0m\u001b[32m)\u001b[0m\u001b[32m)\u001b[0m\u001b[32m\\'\u001b[0m\u001b[32m]\u001b[0m\u001b[32m, \\'_oh\\': \u001b[0m\u001b[32m{\u001b[0m\u001b[32m}\u001b[0m\u001b[32m, \\'_dh\\': \u001b[0m\n",
       "\u001b[32m[\u001b[0m\u001b[32mWindowsPath\u001b[0m\u001b[32m(\u001b[0m\u001b[32m\\'C:/Users/jashw/Desktop/practice\\'\u001b[0m\u001b[32m)\u001b[0m\u001b[32m]\u001b[0m\u001b[32m, \\\\\\n\\'In\\': \u001b[0m\u001b[32m[\u001b[0m\u001b[32m\\'\\', \\'print\u001b[0m\u001b[32m(\u001b[0m\u001b[32mlocals\u001b[0m\u001b[32m(\u001b[0m\u001b[32m)\u001b[0m\u001b[32m)\u001b[0m\u001b[32m\\'\u001b[0m\u001b[32m]\u001b[0m\u001b[32m, \\'Out\\': \u001b[0m\u001b[32m{\u001b[0m\u001b[32m}\u001b[0m\u001b[32m, \u001b[0m\n",
       "\u001b[32m\\'get_ipython\\': \u001b[0m\u001b[32m<\u001b[0m\u001b[32mbound\u001b[0m\u001b[32m method InteractiveShell.get_ipython \\\\\\nof <ipykernel.zmqshell.ZMQInteractiveShell object \u001b[0m\n",
       "\u001b[32mat 0x000001D4F8F34970\u001b[0m\u001b[32m>\u001b[0m\u001b[32m>, \\\\\\n\\'exit\\': \u001b[0m\u001b[32m<\u001b[0m\u001b[32mIPython.core.autocall.ZMQExitAutocall\u001b[0m\u001b[32m object at \u001b[0m\n",
       "\u001b[32m0x000001D4F8F37400\u001b[0m\u001b[32m>\u001b[0m\u001b[32m,\\\\\\n\\'quit\\': \u001b[0m\u001b[32m<\u001b[0m\u001b[32mIPython.core.autocall.ZMQExitAutocall\u001b[0m\u001b[32m object at 0x000001D4F8F37400\u001b[0m\u001b[32m>\u001b[0m\u001b[32m, \\\\\\n\\'_\\': \u001b[0m\n",
       "\u001b[32m\\'\\', \\'__\\': \\'\\', \\'___\\': \\'\\', \\'_i\\': \\'\\', \\'_ii\\': \\'\\', \\'_iii\\': \\'\\', \\'_i1\\': \u001b[0m\n",
       "\u001b[32m\\'print\u001b[0m\u001b[32m(\u001b[0m\u001b[32mlocals\u001b[0m\u001b[32m(\u001b[0m\u001b[32m)\u001b[0m\u001b[32m)\u001b[0m\u001b[32m\\'\u001b[0m\u001b[32m}\u001b[0m\u001b[32m\\n\\nNow see the magic with rich.print\u001b[0m\u001b[32m(\u001b[0m\u001b[32m)\u001b[0m\u001b[32m\\n\"\"\"\\nprint\u001b[0m\u001b[32m(\u001b[0m\u001b[32mlocals\u001b[0m\u001b[32m(\u001b[0m\u001b[32m)\u001b[0m\u001b[32m)\u001b[0m\u001b[32m;'\u001b[0m\n",
       "\u001b[1m}\u001b[0m\n"
      ]
     },
     "metadata": {},
     "output_type": "display_data"
    }
   ],
   "source": [
    "\"\"\"\n",
    "The actual output for print(locals()) would be :\n",
    "\n",
    "{'__name__': '__main__', '__doc__': 'Automatically created module for IPython interactive environment', \\\n",
    "'__package__': None,'__loader__': None, '__spec__': None, '__builtin__': <module 'builtins' (built-in)>,\\\n",
    "'__builtins__': <module 'builtins' (built-in)>,\\\n",
    "'_ih': ['', 'print(locals())'], '_oh': {}, '_dh': [WindowsPath('C:/Users/jashw/Desktop/practice')], \\\n",
    "'In': ['', 'print(locals())'], 'Out': {}, 'get_ipython': <bound method InteractiveShell.get_ipython \\\n",
    "of <ipykernel.zmqshell.ZMQInteractiveShell object at 0x000001D4F8F34970>>, \\\n",
    "'exit': <IPython.core.autocall.ZMQExitAutocall object at 0x000001D4F8F37400>,\\\n",
    "'quit': <IPython.core.autocall.ZMQExitAutocall object at 0x000001D4F8F37400>, \\\n",
    "'_': '', '__': '', '___': '', '_i': '', '_ii': '', '_iii': '', '_i1': 'print(locals())'}\n",
    "\n",
    "Now see the magic with rich.print()\n",
    "\"\"\"\n",
    "print(locals());"
   ]
  },
  {
   "cell_type": "markdown",
   "id": "ed258f84",
   "metadata": {},
   "source": [
    "## Pretty highlights the Data Structures "
   ]
  },
  {
   "cell_type": "code",
   "execution_count": 5,
   "id": "4aa0e5d9",
   "metadata": {},
   "outputs": [
    {
     "data": {
      "text/html": [
       "<pre style=\"white-space:pre;overflow-x:auto;line-height:normal;font-family:Menlo,'DejaVu Sans Mono',consolas,'Courier New',monospace\"><span style=\"font-weight: bold\">[</span><span style=\"color: #008000; text-decoration-color: #008000\">'Hello'</span>, <span style=\"font-weight: bold\">{</span><span style=\"color: #008000; text-decoration-color: #008000\">'Name'</span>: <span style=\"color: #008000; text-decoration-color: #008000\">'Jashwanth Golla'</span>, <span style=\"color: #008000; text-decoration-color: #008000\">'DOB'</span>: <span style=\"color: #008000; text-decoration-color: #008000\">'10-06-2001'</span><span style=\"font-weight: bold\">}</span>, <span style=\"color: #00ff00; text-decoration-color: #00ff00; font-style: italic\">True</span>, <span style=\"color: #008080; text-decoration-color: #008080; font-weight: bold\">45.78</span>, <span style=\"color: #008080; text-decoration-color: #008080; font-weight: bold\">9987</span>, <span style=\"color: #ff0000; text-decoration-color: #ff0000; font-style: italic\">False</span><span style=\"font-weight: bold\">]</span>\n",
       "</pre>\n"
      ],
      "text/plain": [
       "\u001b[1m[\u001b[0m\u001b[32m'Hello'\u001b[0m, \u001b[1m{\u001b[0m\u001b[32m'Name'\u001b[0m: \u001b[32m'Jashwanth Golla'\u001b[0m, \u001b[32m'DOB'\u001b[0m: \u001b[32m'10-06-2001'\u001b[0m\u001b[1m}\u001b[0m, \u001b[3;92mTrue\u001b[0m, \u001b[1;36m45.78\u001b[0m, \u001b[1;36m9987\u001b[0m, \u001b[3;91mFalse\u001b[0m\u001b[1m]\u001b[0m\n"
      ]
     },
     "metadata": {},
     "output_type": "display_data"
    },
    {
     "data": {
      "text/html": [
       "<pre style=\"white-space:pre;overflow-x:auto;line-height:normal;font-family:Menlo,'DejaVu Sans Mono',consolas,'Courier New',monospace\"><span style=\"color: #800080; text-decoration-color: #800080; font-weight: bold\">You can see different colors for different data types and </span> <span style=\"color: #008080; text-decoration-color: #008080; font-weight: bold\">works even more efficiently in more complex data </span>\n",
       "<span style=\"color: #008080; text-decoration-color: #008080; font-weight: bold\">structures</span>\n",
       "</pre>\n"
      ],
      "text/plain": [
       "\u001b[1;35mYou can see different colors for different data types and \u001b[0m \u001b[1;36mworks even more efficiently in more complex data \u001b[0m\n",
       "\u001b[1;36mstructures\u001b[0m\n"
      ]
     },
     "metadata": {},
     "output_type": "display_data"
    }
   ],
   "source": [
    "from rich import pretty\n",
    "pretty.install()\n",
    "arr = [\"Hello\",{\"Name\":\"Jashwanth Golla\",\"DOB\":\"10-06-2001\"},True,45.78,9987,False]\n",
    "print(arr)\n",
    "print(\"[bold magenta]You can see different colors for different data types and [/bold magenta] \\\n",
    "[bold cyan]works even more efficiently in more complex data structures[/bold cyan]\")"
   ]
  },
  {
   "cell_type": "markdown",
   "id": "63dd3467",
   "metadata": {},
   "source": [
    "## Using the Console\n",
    "### This Works better in Terminal with size adjustments and many more"
   ]
  },
  {
   "cell_type": "code",
   "execution_count": 6,
   "id": "711bbc2d",
   "metadata": {},
   "outputs": [],
   "source": [
    "from rich.console import Console\n",
    "\n",
    "console = Console()"
   ]
  },
  {
   "cell_type": "code",
   "execution_count": 7,
   "id": "de5d798a",
   "metadata": {},
   "outputs": [
    {
     "data": {
      "text/html": [
       "<pre style=\"white-space:pre;overflow-x:auto;line-height:normal;font-family:Menlo,'DejaVu Sans Mono',consolas,'Courier New',monospace\"><span style=\"color: #800000; text-decoration-color: #800000; text-decoration: line-through\">Hello World!</span>\n",
       "</pre>\n"
      ],
      "text/plain": [
       "\u001b[9;31mHello World!\u001b[0m\n"
      ]
     },
     "metadata": {},
     "output_type": "display_data"
    }
   ],
   "source": [
    "#strike\n",
    "console.print(\"Hello\", \"World!\", style=\"strike red\")"
   ]
  },
  {
   "cell_type": "code",
   "execution_count": 8,
   "id": "203ea182",
   "metadata": {},
   "outputs": [
    {
     "data": {
      "text/html": [
       "<pre style=\"white-space:pre;overflow-x:auto;line-height:normal;font-family:Menlo,'DejaVu Sans Mono',consolas,'Courier New',monospace\"><span style=\"color: #c0c0c0; text-decoration-color: #c0c0c0; background-color: #000000\">Jashwanth Golla</span>\n",
       "</pre>\n"
      ],
      "text/plain": [
       "\u001b[37;40mJashwanth Golla\u001b[0m\n"
      ]
     },
     "metadata": {},
     "output_type": "display_data"
    }
   ],
   "source": [
    "#Background and Foreground colors\n",
    "console.print(\"Jashwanth Golla\", style=\"white on black\")"
   ]
  },
  {
   "cell_type": "code",
   "execution_count": 9,
   "id": "ec219b4d",
   "metadata": {},
   "outputs": [
    {
     "data": {
      "text/html": [
       "<pre style=\"white-space:pre;overflow-x:auto;line-height:normal;font-family:Menlo,'DejaVu Sans Mono',consolas,'Courier New',monospace\"><span style=\"color: #c0c0c0; text-decoration-color: #c0c0c0; background-color: #800000; font-weight: bold; font-style: italic\">Jashwanth Golla</span>\n",
       "</pre>\n"
      ],
      "text/plain": [
       "\u001b[1;3;37;41mJashwanth Golla\u001b[0m\n"
      ]
     },
     "metadata": {},
     "output_type": "display_data"
    }
   ],
   "source": [
    "#italic and bold\n",
    "console.print(\"Jashwanth Golla\", style=\"italic bold white on red\")"
   ]
  },
  {
   "cell_type": "code",
   "execution_count": 18,
   "id": "400a42c6",
   "metadata": {},
   "outputs": [
    {
     "data": {
      "text/html": [
       "<pre style=\"white-space:pre;overflow-x:auto;line-height:normal;font-family:Menlo,'DejaVu Sans Mono',consolas,'Courier New',monospace\"><span style=\"color: #00ff00; text-decoration-color: #00ff00\">Hello GitHub!!</span>\n",
       "</pre>\n"
      ],
      "text/plain": [
       "\u001b[92mHello GitHub!!\u001b[0m\n"
      ]
     },
     "metadata": {},
     "output_type": "display_data"
    },
    {
     "data": {
      "text/html": [
       "<pre style=\"white-space:pre;overflow-x:auto;line-height:normal;font-family:Menlo,'DejaVu Sans Mono',consolas,'Courier New',monospace\"><span style=\"color: #000000; text-decoration-color: #000000\">Hello GitHub!!\t</span></pre>\n"
      ],
      "text/plain": [
       "\u001b[30mHello GitHub!!\u001b[0m\u001b[30m\t\u001b[0m"
      ]
     },
     "metadata": {},
     "output_type": "display_data"
    },
    {
     "data": {
      "text/html": [
       "<pre style=\"white-space:pre;overflow-x:auto;line-height:normal;font-family:Menlo,'DejaVu Sans Mono',consolas,'Courier New',monospace\"><span style=\"color: #800000; text-decoration-color: #800000\">Hello GitHub!!\t</span></pre>\n"
      ],
      "text/plain": [
       "\u001b[31mHello GitHub!!\u001b[0m\u001b[31m\t\u001b[0m"
      ]
     },
     "metadata": {},
     "output_type": "display_data"
    },
    {
     "data": {
      "text/html": [
       "<pre style=\"white-space:pre;overflow-x:auto;line-height:normal;font-family:Menlo,'DejaVu Sans Mono',consolas,'Courier New',monospace\"><span style=\"color: #008000; text-decoration-color: #008000\">Hello GitHub!!\t</span></pre>\n"
      ],
      "text/plain": [
       "\u001b[32mHello GitHub!!\u001b[0m\u001b[32m\t\u001b[0m"
      ]
     },
     "metadata": {},
     "output_type": "display_data"
    },
    {
     "data": {
      "text/html": [
       "<pre style=\"white-space:pre;overflow-x:auto;line-height:normal;font-family:Menlo,'DejaVu Sans Mono',consolas,'Courier New',monospace\"><span style=\"color: #808000; text-decoration-color: #808000\">Hello GitHub!!\t</span></pre>\n"
      ],
      "text/plain": [
       "\u001b[33mHello GitHub!!\u001b[0m\u001b[33m\t\u001b[0m"
      ]
     },
     "metadata": {},
     "output_type": "display_data"
    },
    {
     "data": {
      "text/html": [
       "<pre style=\"white-space:pre;overflow-x:auto;line-height:normal;font-family:Menlo,'DejaVu Sans Mono',consolas,'Courier New',monospace\"><span style=\"color: #000080; text-decoration-color: #000080\">Hello GitHub!!\t</span></pre>\n"
      ],
      "text/plain": [
       "\u001b[34mHello GitHub!!\u001b[0m\u001b[34m\t\u001b[0m"
      ]
     },
     "metadata": {},
     "output_type": "display_data"
    },
    {
     "data": {
      "text/html": [
       "<pre style=\"white-space:pre;overflow-x:auto;line-height:normal;font-family:Menlo,'DejaVu Sans Mono',consolas,'Courier New',monospace\"><span style=\"color: #800080; text-decoration-color: #800080\">Hello GitHub!!\t</span></pre>\n"
      ],
      "text/plain": [
       "\u001b[35mHello GitHub!!\u001b[0m\u001b[35m\t\u001b[0m"
      ]
     },
     "metadata": {},
     "output_type": "display_data"
    },
    {
     "data": {
      "text/html": [
       "<pre style=\"white-space:pre;overflow-x:auto;line-height:normal;font-family:Menlo,'DejaVu Sans Mono',consolas,'Courier New',monospace\"><span style=\"color: #008080; text-decoration-color: #008080\">Hello GitHub!!\t</span></pre>\n"
      ],
      "text/plain": [
       "\u001b[36mHello GitHub!!\u001b[0m\u001b[36m\t\u001b[0m"
      ]
     },
     "metadata": {},
     "output_type": "display_data"
    },
    {
     "data": {
      "text/html": [
       "<pre style=\"white-space:pre;overflow-x:auto;line-height:normal;font-family:Menlo,'DejaVu Sans Mono',consolas,'Courier New',monospace\"><span style=\"color: #c0c0c0; text-decoration-color: #c0c0c0\">Hello GitHub!!\t</span></pre>\n"
      ],
      "text/plain": [
       "\u001b[37mHello GitHub!!\u001b[0m\u001b[37m\t\u001b[0m"
      ]
     },
     "metadata": {},
     "output_type": "display_data"
    },
    {
     "data": {
      "text/html": [
       "<pre style=\"white-space:pre;overflow-x:auto;line-height:normal;font-family:Menlo,'DejaVu Sans Mono',consolas,'Courier New',monospace\"><span style=\"color: #808080; text-decoration-color: #808080\">Hello GitHub!!\t</span></pre>\n"
      ],
      "text/plain": [
       "\u001b[90mHello GitHub!!\u001b[0m\u001b[90m\t\u001b[0m"
      ]
     },
     "metadata": {},
     "output_type": "display_data"
    },
    {
     "data": {
      "text/html": [
       "<pre style=\"white-space:pre;overflow-x:auto;line-height:normal;font-family:Menlo,'DejaVu Sans Mono',consolas,'Courier New',monospace\"><span style=\"color: #ff0000; text-decoration-color: #ff0000\">Hello GitHub!!\t</span></pre>\n"
      ],
      "text/plain": [
       "\u001b[91mHello GitHub!!\u001b[0m\u001b[91m\t\u001b[0m"
      ]
     },
     "metadata": {},
     "output_type": "display_data"
    },
    {
     "data": {
      "text/html": [
       "<pre style=\"white-space:pre;overflow-x:auto;line-height:normal;font-family:Menlo,'DejaVu Sans Mono',consolas,'Courier New',monospace\"><span style=\"color: #00ff00; text-decoration-color: #00ff00\">Hello GitHub!!\t</span></pre>\n"
      ],
      "text/plain": [
       "\u001b[92mHello GitHub!!\u001b[0m\u001b[92m\t\u001b[0m"
      ]
     },
     "metadata": {},
     "output_type": "display_data"
    },
    {
     "data": {
      "text/html": [
       "<pre style=\"white-space:pre;overflow-x:auto;line-height:normal;font-family:Menlo,'DejaVu Sans Mono',consolas,'Courier New',monospace\"><span style=\"color: #ffff00; text-decoration-color: #ffff00\">Hello GitHub!!\t</span></pre>\n"
      ],
      "text/plain": [
       "\u001b[93mHello GitHub!!\u001b[0m\u001b[93m\t\u001b[0m"
      ]
     },
     "metadata": {},
     "output_type": "display_data"
    },
    {
     "data": {
      "text/html": [
       "<pre style=\"white-space:pre;overflow-x:auto;line-height:normal;font-family:Menlo,'DejaVu Sans Mono',consolas,'Courier New',monospace\"><span style=\"color: #0000ff; text-decoration-color: #0000ff\">Hello GitHub!!\t</span></pre>\n"
      ],
      "text/plain": [
       "\u001b[94mHello GitHub!!\u001b[0m\u001b[94m\t\u001b[0m"
      ]
     },
     "metadata": {},
     "output_type": "display_data"
    },
    {
     "data": {
      "text/html": [
       "<pre style=\"white-space:pre;overflow-x:auto;line-height:normal;font-family:Menlo,'DejaVu Sans Mono',consolas,'Courier New',monospace\"><span style=\"color: #ff00ff; text-decoration-color: #ff00ff\">Hello GitHub!!\t</span></pre>\n"
      ],
      "text/plain": [
       "\u001b[95mHello GitHub!!\u001b[0m\u001b[95m\t\u001b[0m"
      ]
     },
     "metadata": {},
     "output_type": "display_data"
    },
    {
     "data": {
      "text/html": [
       "<pre style=\"white-space:pre;overflow-x:auto;line-height:normal;font-family:Menlo,'DejaVu Sans Mono',consolas,'Courier New',monospace\"><span style=\"color: #00ffff; text-decoration-color: #00ffff\">Hello GitHub!!\t</span></pre>\n"
      ],
      "text/plain": [
       "\u001b[96mHello GitHub!!\u001b[0m\u001b[96m\t\u001b[0m"
      ]
     },
     "metadata": {},
     "output_type": "display_data"
    }
   ],
   "source": [
    "#playing with more colors using color argument for style\n",
    "console.print(\"Hello GitHub!!\", style=\"color(10)\")\n",
    "for i in range(15):\n",
    "    console.print(\"Hello GitHub!!\", style=f\"color({i})\",end=\"\\t\") # f string comes handy here."
   ]
  },
  {
   "cell_type": "code",
   "execution_count": 19,
   "id": "8fab6b30",
   "metadata": {},
   "outputs": [
    {
     "data": {
      "text/html": [
       "<pre style=\"white-space:pre;overflow-x:auto;line-height:normal;font-family:Menlo,'DejaVu Sans Mono',consolas,'Courier New',monospace\"><span style=\"color: #800000; text-decoration-color: #800000; background-color: #c0c0c0; font-weight: bold; text-decoration: underline\">This is Amazing!!</span>\n",
       "</pre>\n"
      ],
      "text/plain": [
       "\u001b[1;4;31;47mThis is Amazing!!\u001b[0m\n"
      ]
     },
     "metadata": {},
     "output_type": "display_data"
    }
   ],
   "source": [
    "#Underline\n",
    "console.print(\"This is Amazing!!\", style=\"bold red underline on white\")"
   ]
  },
  {
   "cell_type": "markdown",
   "id": "c6834a9c",
   "metadata": {},
   "source": [
    "## Inspect to get more details on the data structure with great visualisation"
   ]
  },
  {
   "cell_type": "code",
   "execution_count": 20,
   "id": "f8b7a68c",
   "metadata": {},
   "outputs": [
    {
     "data": {
      "text/html": [
       "<pre style=\"white-space:pre;overflow-x:auto;line-height:normal;font-family:Menlo,'DejaVu Sans Mono',consolas,'Courier New',monospace\"><span style=\"color: #000080; text-decoration-color: #000080\">╭─────────────────────── </span><span style=\"color: #000080; text-decoration-color: #000080; font-weight: bold\">&lt;</span><span style=\"color: #ff00ff; text-decoration-color: #ff00ff; font-weight: bold\">class</span><span style=\"color: #000000; text-decoration-color: #000000\"> </span><span style=\"color: #008000; text-decoration-color: #008000\">'list'</span><span style=\"color: #000080; text-decoration-color: #000080; font-weight: bold\">&gt;</span><span style=\"color: #000080; text-decoration-color: #000080\"> ───────────────────────╮</span>\n",
       "<span style=\"color: #000080; text-decoration-color: #000080\">│</span> <span style=\"color: #008080; text-decoration-color: #008080\">Built-in mutable sequence.</span>                                   <span style=\"color: #000080; text-decoration-color: #000080\">│</span>\n",
       "<span style=\"color: #000080; text-decoration-color: #000080\">│</span>                                                              <span style=\"color: #000080; text-decoration-color: #000080\">│</span>\n",
       "<span style=\"color: #000080; text-decoration-color: #000080\">│</span> <span style=\"color: #008000; text-decoration-color: #008000\">╭──────────────────────────────────────────────────────────╮</span> <span style=\"color: #000080; text-decoration-color: #000080\">│</span>\n",
       "<span style=\"color: #000080; text-decoration-color: #000080\">│</span> <span style=\"color: #008000; text-decoration-color: #008000\">│</span> <span style=\"font-weight: bold\">[</span><span style=\"color: #008000; text-decoration-color: #008000\">'Jashwanth'</span>, <span style=\"color: #008000; text-decoration-color: #008000\">'Golla'</span><span style=\"font-weight: bold\">]</span>                                   <span style=\"color: #008000; text-decoration-color: #008000\">│</span> <span style=\"color: #000080; text-decoration-color: #000080\">│</span>\n",
       "<span style=\"color: #000080; text-decoration-color: #000080\">│</span> <span style=\"color: #008000; text-decoration-color: #008000\">╰──────────────────────────────────────────────────────────╯</span> <span style=\"color: #000080; text-decoration-color: #000080\">│</span>\n",
       "<span style=\"color: #000080; text-decoration-color: #000080\">│</span>                                                              <span style=\"color: #000080; text-decoration-color: #000080\">│</span>\n",
       "<span style=\"color: #000080; text-decoration-color: #000080\">│</span> <span style=\"color: #008080; text-decoration-color: #008080; font-weight: bold\">36</span><span style=\"font-style: italic\"> attribute(s) not shown.</span> Run <span style=\"color: #800080; text-decoration-color: #800080; font-weight: bold\">inspect</span><span style=\"font-weight: bold\">(</span>inspect<span style=\"font-weight: bold\">)</span> for options. <span style=\"color: #000080; text-decoration-color: #000080\">│</span>\n",
       "<span style=\"color: #000080; text-decoration-color: #000080\">╰──────────────────────────────────────────────────────────────╯</span>\n",
       "</pre>\n"
      ],
      "text/plain": [
       "\u001b[34m╭─\u001b[0m\u001b[34m──────────────────────\u001b[0m\u001b[34m \u001b[0m\u001b[1;34m<\u001b[0m\u001b[1;95mclass\u001b[0m\u001b[39m \u001b[0m\u001b[32m'list'\u001b[0m\u001b[1;34m>\u001b[0m\u001b[34m \u001b[0m\u001b[34m──────────────────────\u001b[0m\u001b[34m─╮\u001b[0m\n",
       "\u001b[34m│\u001b[0m \u001b[36mBuilt-in mutable sequence.\u001b[0m                                   \u001b[34m│\u001b[0m\n",
       "\u001b[34m│\u001b[0m                                                              \u001b[34m│\u001b[0m\n",
       "\u001b[34m│\u001b[0m \u001b[32m╭──────────────────────────────────────────────────────────╮\u001b[0m \u001b[34m│\u001b[0m\n",
       "\u001b[34m│\u001b[0m \u001b[32m│\u001b[0m \u001b[1m[\u001b[0m\u001b[32m'Jashwanth'\u001b[0m, \u001b[32m'Golla'\u001b[0m\u001b[1m]\u001b[0m                                   \u001b[32m│\u001b[0m \u001b[34m│\u001b[0m\n",
       "\u001b[34m│\u001b[0m \u001b[32m╰──────────────────────────────────────────────────────────╯\u001b[0m \u001b[34m│\u001b[0m\n",
       "\u001b[34m│\u001b[0m                                                              \u001b[34m│\u001b[0m\n",
       "\u001b[34m│\u001b[0m \u001b[1;36m36\u001b[0m\u001b[3m attribute(s) not shown.\u001b[0m Run \u001b[1;35minspect\u001b[0m\u001b[1m(\u001b[0minspect\u001b[1m)\u001b[0m for options. \u001b[34m│\u001b[0m\n",
       "\u001b[34m╰──────────────────────────────────────────────────────────────╯\u001b[0m\n"
      ]
     },
     "metadata": {},
     "output_type": "display_data"
    }
   ],
   "source": [
    "names = [\"Jashwanth\", \"Golla\"]\n",
    "from rich import inspect\n",
    "inspect(names, methods=False)"
   ]
  },
  {
   "cell_type": "code",
   "execution_count": 21,
   "id": "28082d6b",
   "metadata": {},
   "outputs": [
    {
     "data": {
      "text/html": [
       "<pre style=\"white-space:pre;overflow-x:auto;line-height:normal;font-family:Menlo,'DejaVu Sans Mono',consolas,'Courier New',monospace\"><span style=\"color: #000080; text-decoration-color: #000080\">╭───────────────────────────────────────── </span><span style=\"color: #000080; text-decoration-color: #000080; font-weight: bold\">&lt;</span><span style=\"color: #ff00ff; text-decoration-color: #ff00ff; font-weight: bold\">class</span><span style=\"color: #000000; text-decoration-color: #000000\"> </span><span style=\"color: #008000; text-decoration-color: #008000\">'list'</span><span style=\"color: #000080; text-decoration-color: #000080; font-weight: bold\">&gt;</span><span style=\"color: #000080; text-decoration-color: #000080\"> ──────────────────────────────────────────╮</span>\n",
       "<span style=\"color: #000080; text-decoration-color: #000080\">│</span> <span style=\"color: #008080; text-decoration-color: #008080\">Built-in mutable sequence.</span>                                                                        <span style=\"color: #000080; text-decoration-color: #000080\">│</span>\n",
       "<span style=\"color: #000080; text-decoration-color: #000080\">│</span>                                                                                                   <span style=\"color: #000080; text-decoration-color: #000080\">│</span>\n",
       "<span style=\"color: #000080; text-decoration-color: #000080\">│</span> <span style=\"color: #008000; text-decoration-color: #008000\">╭───────────────────────────────────────────────────────────────────────────────────────────────╮</span> <span style=\"color: #000080; text-decoration-color: #000080\">│</span>\n",
       "<span style=\"color: #000080; text-decoration-color: #000080\">│</span> <span style=\"color: #008000; text-decoration-color: #008000\">│</span> <span style=\"font-weight: bold\">[</span><span style=\"color: #008000; text-decoration-color: #008000\">'Jashwanth'</span>, <span style=\"color: #008000; text-decoration-color: #008000\">'Golla'</span><span style=\"font-weight: bold\">]</span>                                                                        <span style=\"color: #008000; text-decoration-color: #008000\">│</span> <span style=\"color: #000080; text-decoration-color: #000080\">│</span>\n",
       "<span style=\"color: #000080; text-decoration-color: #000080\">│</span> <span style=\"color: #008000; text-decoration-color: #008000\">╰───────────────────────────────────────────────────────────────────────────────────────────────╯</span> <span style=\"color: #000080; text-decoration-color: #000080\">│</span>\n",
       "<span style=\"color: #000080; text-decoration-color: #000080\">│</span>                                                                                                   <span style=\"color: #000080; text-decoration-color: #000080\">│</span>\n",
       "<span style=\"color: #000080; text-decoration-color: #000080\">│</span>  <span style=\"color: #808000; text-decoration-color: #808000; font-style: italic\">append</span> = <span style=\"color: #00ffff; text-decoration-color: #00ffff; font-style: italic\">def </span><span style=\"color: #800000; text-decoration-color: #800000; font-weight: bold\">append</span><span style=\"font-weight: bold\">(</span>object, <span style=\"color: #800080; text-decoration-color: #800080\">/</span><span style=\"font-weight: bold\">)</span>: <span style=\"color: #7f7f7f; text-decoration-color: #7f7f7f\">Append object to the end of the list.</span>                            <span style=\"color: #000080; text-decoration-color: #000080\">│</span>\n",
       "<span style=\"color: #000080; text-decoration-color: #000080\">│</span>   <span style=\"color: #808000; text-decoration-color: #808000; font-style: italic\">clear</span> = <span style=\"color: #00ffff; text-decoration-color: #00ffff; font-style: italic\">def </span><span style=\"color: #800000; text-decoration-color: #800000; font-weight: bold\">clear</span><span style=\"font-weight: bold\">()</span>: <span style=\"color: #7f7f7f; text-decoration-color: #7f7f7f\">Remove all items from list.</span>                                                <span style=\"color: #000080; text-decoration-color: #000080\">│</span>\n",
       "<span style=\"color: #000080; text-decoration-color: #000080\">│</span>    <span style=\"color: #808000; text-decoration-color: #808000; font-style: italic\">copy</span> = <span style=\"color: #00ffff; text-decoration-color: #00ffff; font-style: italic\">def </span><span style=\"color: #800000; text-decoration-color: #800000; font-weight: bold\">copy</span><span style=\"font-weight: bold\">()</span>: <span style=\"color: #7f7f7f; text-decoration-color: #7f7f7f\">Return a shallow copy of the list.</span>                                          <span style=\"color: #000080; text-decoration-color: #000080\">│</span>\n",
       "<span style=\"color: #000080; text-decoration-color: #000080\">│</span>   <span style=\"color: #808000; text-decoration-color: #808000; font-style: italic\">count</span> = <span style=\"color: #00ffff; text-decoration-color: #00ffff; font-style: italic\">def </span><span style=\"color: #800000; text-decoration-color: #800000; font-weight: bold\">count</span><span style=\"font-weight: bold\">(</span>value, <span style=\"color: #800080; text-decoration-color: #800080\">/</span><span style=\"font-weight: bold\">)</span>: <span style=\"color: #7f7f7f; text-decoration-color: #7f7f7f\">Return number of occurrences of value.</span>                             <span style=\"color: #000080; text-decoration-color: #000080\">│</span>\n",
       "<span style=\"color: #000080; text-decoration-color: #000080\">│</span>  <span style=\"color: #808000; text-decoration-color: #808000; font-style: italic\">extend</span> = <span style=\"color: #00ffff; text-decoration-color: #00ffff; font-style: italic\">def </span><span style=\"color: #800000; text-decoration-color: #800000; font-weight: bold\">extend</span><span style=\"font-weight: bold\">(</span>iterable, <span style=\"color: #800080; text-decoration-color: #800080\">/</span><span style=\"font-weight: bold\">)</span>: <span style=\"color: #7f7f7f; text-decoration-color: #7f7f7f\">Extend list by appending elements from the iterable.</span>           <span style=\"color: #000080; text-decoration-color: #000080\">│</span>\n",
       "<span style=\"color: #000080; text-decoration-color: #000080\">│</span>   <span style=\"color: #808000; text-decoration-color: #808000; font-style: italic\">index</span> = <span style=\"color: #00ffff; text-decoration-color: #00ffff; font-style: italic\">def </span><span style=\"color: #800000; text-decoration-color: #800000; font-weight: bold\">index</span><span style=\"font-weight: bold\">(</span>value, <span style=\"color: #808000; text-decoration-color: #808000\">start</span>=<span style=\"color: #008080; text-decoration-color: #008080; font-weight: bold\">0</span>, <span style=\"color: #808000; text-decoration-color: #808000\">stop</span>=<span style=\"color: #008080; text-decoration-color: #008080; font-weight: bold\">9223372036854775807</span>, <span style=\"color: #800080; text-decoration-color: #800080\">/</span><span style=\"font-weight: bold\">)</span>: <span style=\"color: #7f7f7f; text-decoration-color: #7f7f7f\">Return first index of value.</span>    <span style=\"color: #000080; text-decoration-color: #000080\">│</span>\n",
       "<span style=\"color: #000080; text-decoration-color: #000080\">│</span>  <span style=\"color: #808000; text-decoration-color: #808000; font-style: italic\">insert</span> = <span style=\"color: #00ffff; text-decoration-color: #00ffff; font-style: italic\">def </span><span style=\"color: #800000; text-decoration-color: #800000; font-weight: bold\">insert</span><span style=\"font-weight: bold\">(</span>index, object, <span style=\"color: #800080; text-decoration-color: #800080\">/</span><span style=\"font-weight: bold\">)</span>: <span style=\"color: #7f7f7f; text-decoration-color: #7f7f7f\">Insert object before index.</span>                               <span style=\"color: #000080; text-decoration-color: #000080\">│</span>\n",
       "<span style=\"color: #000080; text-decoration-color: #000080\">│</span>     <span style=\"color: #808000; text-decoration-color: #808000; font-style: italic\">pop</span> = <span style=\"color: #00ffff; text-decoration-color: #00ffff; font-style: italic\">def </span><span style=\"color: #800000; text-decoration-color: #800000; font-weight: bold\">pop</span><span style=\"font-weight: bold\">(</span><span style=\"color: #808000; text-decoration-color: #808000\">index</span>=<span style=\"color: #008080; text-decoration-color: #008080; font-weight: bold\">-1</span>, <span style=\"color: #800080; text-decoration-color: #800080\">/</span><span style=\"font-weight: bold\">)</span>: <span style=\"color: #7f7f7f; text-decoration-color: #7f7f7f\">Remove and return item at index </span><span style=\"color: #7f7f7f; text-decoration-color: #7f7f7f; font-weight: bold\">(</span><span style=\"color: #7f7f7f; text-decoration-color: #7f7f7f\">default last</span><span style=\"color: #7f7f7f; text-decoration-color: #7f7f7f; font-weight: bold\">)</span><span style=\"color: #7f7f7f; text-decoration-color: #7f7f7f\">.</span>                   <span style=\"color: #000080; text-decoration-color: #000080\">│</span>\n",
       "<span style=\"color: #000080; text-decoration-color: #000080\">│</span>  <span style=\"color: #808000; text-decoration-color: #808000; font-style: italic\">remove</span> = <span style=\"color: #00ffff; text-decoration-color: #00ffff; font-style: italic\">def </span><span style=\"color: #800000; text-decoration-color: #800000; font-weight: bold\">remove</span><span style=\"font-weight: bold\">(</span>value, <span style=\"color: #800080; text-decoration-color: #800080\">/</span><span style=\"font-weight: bold\">)</span>: <span style=\"color: #7f7f7f; text-decoration-color: #7f7f7f\">Remove first occurrence of value.</span>                                 <span style=\"color: #000080; text-decoration-color: #000080\">│</span>\n",
       "<span style=\"color: #000080; text-decoration-color: #000080\">│</span> <span style=\"color: #808000; text-decoration-color: #808000; font-style: italic\">reverse</span> = <span style=\"color: #00ffff; text-decoration-color: #00ffff; font-style: italic\">def </span><span style=\"color: #800000; text-decoration-color: #800000; font-weight: bold\">reverse</span><span style=\"font-weight: bold\">()</span>: <span style=\"color: #7f7f7f; text-decoration-color: #7f7f7f\">Reverse *IN PLACE*.</span>                                                      <span style=\"color: #000080; text-decoration-color: #000080\">│</span>\n",
       "<span style=\"color: #000080; text-decoration-color: #000080\">│</span>    <span style=\"color: #808000; text-decoration-color: #808000; font-style: italic\">sort</span> = <span style=\"color: #00ffff; text-decoration-color: #00ffff; font-style: italic\">def </span><span style=\"color: #800000; text-decoration-color: #800000; font-weight: bold\">sort</span><span style=\"font-weight: bold\">(</span>*, <span style=\"color: #808000; text-decoration-color: #808000\">key</span>=<span style=\"color: #800080; text-decoration-color: #800080; font-style: italic\">None</span>, <span style=\"color: #808000; text-decoration-color: #808000\">reverse</span>=<span style=\"color: #ff0000; text-decoration-color: #ff0000; font-style: italic\">False</span><span style=\"font-weight: bold\">)</span>: <span style=\"color: #7f7f7f; text-decoration-color: #7f7f7f\">Sort the list in ascending order and return </span><span style=\"color: #bf7fbf; text-decoration-color: #bf7fbf; font-style: italic\">None</span><span style=\"color: #7f7f7f; text-decoration-color: #7f7f7f\">.</span> <span style=\"color: #000080; text-decoration-color: #000080\">│</span>\n",
       "<span style=\"color: #000080; text-decoration-color: #000080\">╰───────────────────────────────────────────────────────────────────────────────────────────────────╯</span>\n",
       "</pre>\n"
      ],
      "text/plain": [
       "\u001b[34m╭─\u001b[0m\u001b[34m────────────────────────────────────────\u001b[0m\u001b[34m \u001b[0m\u001b[1;34m<\u001b[0m\u001b[1;95mclass\u001b[0m\u001b[39m \u001b[0m\u001b[32m'list'\u001b[0m\u001b[1;34m>\u001b[0m\u001b[34m \u001b[0m\u001b[34m─────────────────────────────────────────\u001b[0m\u001b[34m─╮\u001b[0m\n",
       "\u001b[34m│\u001b[0m \u001b[36mBuilt-in mutable sequence.\u001b[0m                                                                        \u001b[34m│\u001b[0m\n",
       "\u001b[34m│\u001b[0m                                                                                                   \u001b[34m│\u001b[0m\n",
       "\u001b[34m│\u001b[0m \u001b[32m╭───────────────────────────────────────────────────────────────────────────────────────────────╮\u001b[0m \u001b[34m│\u001b[0m\n",
       "\u001b[34m│\u001b[0m \u001b[32m│\u001b[0m \u001b[1m[\u001b[0m\u001b[32m'Jashwanth'\u001b[0m, \u001b[32m'Golla'\u001b[0m\u001b[1m]\u001b[0m                                                                        \u001b[32m│\u001b[0m \u001b[34m│\u001b[0m\n",
       "\u001b[34m│\u001b[0m \u001b[32m╰───────────────────────────────────────────────────────────────────────────────────────────────╯\u001b[0m \u001b[34m│\u001b[0m\n",
       "\u001b[34m│\u001b[0m                                                                                                   \u001b[34m│\u001b[0m\n",
       "\u001b[34m│\u001b[0m  \u001b[3;33mappend\u001b[0m = \u001b[3;96mdef \u001b[0m\u001b[1;31mappend\u001b[0m\u001b[1m(\u001b[0mobject, \u001b[35m/\u001b[0m\u001b[1m)\u001b[0m: \u001b[2mAppend object to the end of the list.\u001b[0m                            \u001b[34m│\u001b[0m\n",
       "\u001b[34m│\u001b[0m   \u001b[3;33mclear\u001b[0m = \u001b[3;96mdef \u001b[0m\u001b[1;31mclear\u001b[0m\u001b[1m(\u001b[0m\u001b[1m)\u001b[0m: \u001b[2mRemove all items from list.\u001b[0m                                                \u001b[34m│\u001b[0m\n",
       "\u001b[34m│\u001b[0m    \u001b[3;33mcopy\u001b[0m = \u001b[3;96mdef \u001b[0m\u001b[1;31mcopy\u001b[0m\u001b[1m(\u001b[0m\u001b[1m)\u001b[0m: \u001b[2mReturn a shallow copy of the list.\u001b[0m                                          \u001b[34m│\u001b[0m\n",
       "\u001b[34m│\u001b[0m   \u001b[3;33mcount\u001b[0m = \u001b[3;96mdef \u001b[0m\u001b[1;31mcount\u001b[0m\u001b[1m(\u001b[0mvalue, \u001b[35m/\u001b[0m\u001b[1m)\u001b[0m: \u001b[2mReturn number of occurrences of value.\u001b[0m                             \u001b[34m│\u001b[0m\n",
       "\u001b[34m│\u001b[0m  \u001b[3;33mextend\u001b[0m = \u001b[3;96mdef \u001b[0m\u001b[1;31mextend\u001b[0m\u001b[1m(\u001b[0miterable, \u001b[35m/\u001b[0m\u001b[1m)\u001b[0m: \u001b[2mExtend list by appending elements from the iterable.\u001b[0m           \u001b[34m│\u001b[0m\n",
       "\u001b[34m│\u001b[0m   \u001b[3;33mindex\u001b[0m = \u001b[3;96mdef \u001b[0m\u001b[1;31mindex\u001b[0m\u001b[1m(\u001b[0mvalue, \u001b[33mstart\u001b[0m=\u001b[1;36m0\u001b[0m, \u001b[33mstop\u001b[0m=\u001b[1;36m9223372036854775807\u001b[0m, \u001b[35m/\u001b[0m\u001b[1m)\u001b[0m: \u001b[2mReturn first index of value.\u001b[0m    \u001b[34m│\u001b[0m\n",
       "\u001b[34m│\u001b[0m  \u001b[3;33minsert\u001b[0m = \u001b[3;96mdef \u001b[0m\u001b[1;31minsert\u001b[0m\u001b[1m(\u001b[0mindex, object, \u001b[35m/\u001b[0m\u001b[1m)\u001b[0m: \u001b[2mInsert object before index.\u001b[0m                               \u001b[34m│\u001b[0m\n",
       "\u001b[34m│\u001b[0m     \u001b[3;33mpop\u001b[0m = \u001b[3;96mdef \u001b[0m\u001b[1;31mpop\u001b[0m\u001b[1m(\u001b[0m\u001b[33mindex\u001b[0m=\u001b[1;36m-1\u001b[0m, \u001b[35m/\u001b[0m\u001b[1m)\u001b[0m: \u001b[2mRemove and return item at index \u001b[0m\u001b[1;2m(\u001b[0m\u001b[2mdefault last\u001b[0m\u001b[1;2m)\u001b[0m\u001b[2m.\u001b[0m                   \u001b[34m│\u001b[0m\n",
       "\u001b[34m│\u001b[0m  \u001b[3;33mremove\u001b[0m = \u001b[3;96mdef \u001b[0m\u001b[1;31mremove\u001b[0m\u001b[1m(\u001b[0mvalue, \u001b[35m/\u001b[0m\u001b[1m)\u001b[0m: \u001b[2mRemove first occurrence of value.\u001b[0m                                 \u001b[34m│\u001b[0m\n",
       "\u001b[34m│\u001b[0m \u001b[3;33mreverse\u001b[0m = \u001b[3;96mdef \u001b[0m\u001b[1;31mreverse\u001b[0m\u001b[1m(\u001b[0m\u001b[1m)\u001b[0m: \u001b[2mReverse *IN PLACE*.\u001b[0m                                                      \u001b[34m│\u001b[0m\n",
       "\u001b[34m│\u001b[0m    \u001b[3;33msort\u001b[0m = \u001b[3;96mdef \u001b[0m\u001b[1;31msort\u001b[0m\u001b[1m(\u001b[0m*, \u001b[33mkey\u001b[0m=\u001b[3;35mNone\u001b[0m, \u001b[33mreverse\u001b[0m=\u001b[3;91mFalse\u001b[0m\u001b[1m)\u001b[0m: \u001b[2mSort the list in ascending order and return \u001b[0m\u001b[2;3;35mNone\u001b[0m\u001b[2m.\u001b[0m \u001b[34m│\u001b[0m\n",
       "\u001b[34m╰───────────────────────────────────────────────────────────────────────────────────────────────────╯\u001b[0m\n"
      ]
     },
     "metadata": {},
     "output_type": "display_data"
    }
   ],
   "source": [
    "inspect(names, methods=True)"
   ]
  }
 ],
 "metadata": {
  "kernelspec": {
   "display_name": "Python 3 (ipykernel)",
   "language": "python",
   "name": "python3"
  },
  "language_info": {
   "codemirror_mode": {
    "name": "ipython",
    "version": 3
   },
   "file_extension": ".py",
   "mimetype": "text/x-python",
   "name": "python",
   "nbconvert_exporter": "python",
   "pygments_lexer": "ipython3",
   "version": "3.10.4"
  }
 },
 "nbformat": 4,
 "nbformat_minor": 5
}
