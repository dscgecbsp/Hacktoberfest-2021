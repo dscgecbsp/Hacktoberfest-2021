{
 "cells": [
  {
   "cell_type": "code",
   "execution_count": 1,
   "metadata": {},
   "outputs": [],
   "source": [
    "#Circular Queue class containing all the methods enqueue, dequeue isFull, isEmpty, getFront and getRear \n",
    "class Queue:\n",
    "    def __init__(self,capacity):\n",
    "        self.front = self.rear = -1\n",
    "        self.capacity = capacity\n",
    "        self.queue = [None]*capacity\n",
    "\n",
    "    #To check if circular queue is empty\n",
    "    def isEmpty(self):\n",
    "        if self.front == -1 and self.rear == -1:\n",
    "            return True\n",
    "        return False\n",
    "\n",
    "    #To check if circular queue is full \n",
    "    def isFull(self):\n",
    "        if (self.rear+1)%self.capacity == self.front:\n",
    "            return True\n",
    "        return False\n",
    "\n",
    "    #To insert element into circular queue\n",
    "    def enqueue(self,val):\n",
    "        if self.isFull():\n",
    "            print(\"Queue is full\")\n",
    "        else:\n",
    "            if self.front == -1 and self.rear == -1:\n",
    "                self.front = self.rear = 0\n",
    "                self.queue[self.rear%self.capacity] = val\n",
    "            else:\n",
    "                self.rear += 1\n",
    "                self.queue[self.rear%self.capacity] = val\n",
    "\n",
    "    #To delete element from circular queue\n",
    "    def deque(self):\n",
    "        if self.isEmpty():\n",
    "            print(\"Queue is empty\")\n",
    "        else:\n",
    "            if self.front == self.rear:\n",
    "                self.front = self.rear = -1\n",
    "            else:\n",
    "                self.front += 1\n",
    "\n",
    "    #get element at the front of circular queue\n",
    "    def getFront(self):\n",
    "        if self.isEmpty():\n",
    "            print(\"Queue is empty\")\n",
    "        else:\n",
    "            print(self.queue[self.front%self.capacity])\n",
    "\n",
    "    #get element at the rear of circular queue\n",
    "    def getRear(self):\n",
    "        if self.isEmpty():\n",
    "            print(\"Queue is empty\")\n",
    "        else:\n",
    "            print(self.queue[self.rear%self.capacity])"
   ]
  },
  {
   "cell_type": "code",
   "execution_count": 2,
   "metadata": {},
   "outputs": [],
   "source": [
    "#Creating queue object and enqueue elements\n",
    "q = Queue(3)\n",
    "\n",
    "q.enqueue(1)\n",
    "q.enqueue(2)"
   ]
  },
  {
   "cell_type": "code",
   "execution_count": 3,
   "metadata": {},
   "outputs": [
    {
     "name": "stdout",
     "output_type": "stream",
     "text": [
      "1\n"
     ]
    }
   ],
   "source": [
    "q.getFront()"
   ]
  },
  {
   "cell_type": "code",
   "execution_count": 4,
   "metadata": {},
   "outputs": [],
   "source": [
    "q.deque()"
   ]
  },
  {
   "cell_type": "code",
   "execution_count": 5,
   "metadata": {},
   "outputs": [
    {
     "name": "stdout",
     "output_type": "stream",
     "text": [
      "2\n",
      "2\n"
     ]
    }
   ],
   "source": [
    "q.getFront()\n",
    "q.getRear()"
   ]
  },
  {
   "cell_type": "code",
   "execution_count": 6,
   "metadata": {},
   "outputs": [
    {
     "name": "stdout",
     "output_type": "stream",
     "text": [
      "Queue is empty\n",
      "Queue is empty\n"
     ]
    }
   ],
   "source": [
    "q.deque()\n",
    "q.getFront()\n",
    "q.getRear()"
   ]
  },
  {
   "cell_type": "code",
   "execution_count": 7,
   "metadata": {},
   "outputs": [
    {
     "name": "stdout",
     "output_type": "stream",
     "text": [
      "1\n",
      "3\n"
     ]
    }
   ],
   "source": [
    "q.enqueue(1)\n",
    "q.enqueue(2)\n",
    "q.enqueue(3)\n",
    "q.getFront()\n",
    "q.getRear()"
   ]
  }
 ],
 "metadata": {
  "interpreter": {
   "hash": "03abc520bbcc5151002dd9628cc90fb0974feac7d9702b6412beff5da4730d0c"
  },
  "kernelspec": {
   "display_name": "Python 3.7.0 32-bit",
   "name": "python3"
  },
  "language_info": {
   "codemirror_mode": {
    "name": "ipython",
    "version": 3
   },
   "file_extension": ".py",
   "mimetype": "text/x-python",
   "name": "python",
   "nbconvert_exporter": "python",
   "pygments_lexer": "ipython3",
   "version": "3.7.2"
  },
  "orig_nbformat": 4
 },
 "nbformat": 4,
 "nbformat_minor": 2
}
