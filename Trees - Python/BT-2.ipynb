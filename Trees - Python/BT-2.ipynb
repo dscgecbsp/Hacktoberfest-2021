{
 "cells": [
  {
   "cell_type": "code",
   "execution_count": 1,
   "metadata": {},
   "outputs": [],
   "source": [
    "class BT:\n",
    "    def __init__(self,data):\n",
    "        self.data = data\n",
    "        self.left = None\n",
    "        self.right = None\n",
    "def inputBT():\n",
    "    n = int(input())\n",
    "    if n == -1:\n",
    "        return\n",
    "    root = BT(n)\n",
    "    root.left = inputBT()\n",
    "    root.right = inputBT()\n",
    "    return root\n",
    "def outputBT(root):\n",
    "    if root is None:\n",
    "        return\n",
    "    print(root.data,end = \" : \")\n",
    "    if root.left:\n",
    "        print(\"L\",root.left.data,end =\" \")\n",
    "    if root.right:\n",
    "        print(\"R\",root.right.data,end = \" \")\n",
    "    print()\n",
    "    outputBT(root.left)\n",
    "    outputBT(root.right)"
   ]
  },
  {
   "cell_type": "code",
   "execution_count": 37,
   "metadata": {},
   "outputs": [
    {
     "name": "stdout",
     "output_type": "stream",
     "text": [
      "1\n",
      "2\n",
      "3\n",
      "-1\n",
      "-1\n",
      "4\n",
      "-1\n",
      "-1\n",
      "5\n",
      "-1\n",
      "-1\n"
     ]
    }
   ],
   "source": [
    "a = inputBT()"
   ]
  },
  {
   "cell_type": "code",
   "execution_count": 31,
   "metadata": {},
   "outputs": [
    {
     "name": "stdout",
     "output_type": "stream",
     "text": [
      "1 : L 2 R 5 \n",
      "2 : L 3 R 4 \n",
      "3 : \n",
      "4 : \n",
      "5 : \n"
     ]
    }
   ],
   "source": [
    "outputBT(a)"
   ]
  },
  {
   "cell_type": "code",
   "execution_count": 32,
   "metadata": {},
   "outputs": [],
   "source": [
    "def remove_leaf(root):\n",
    "    if root is None:\n",
    "        return None\n",
    "    if root.left is None and root.right is None:\n",
    "        return None\n",
    "    root.left = remove_leaf(root.left)\n",
    "    root.right = remove_leaf(root.right)\n",
    "    return root"
   ]
  },
  {
   "cell_type": "code",
   "execution_count": 38,
   "metadata": {},
   "outputs": [],
   "source": [
    "b =remove_leaf(a)"
   ]
  },
  {
   "cell_type": "code",
   "execution_count": 39,
   "metadata": {},
   "outputs": [
    {
     "name": "stdout",
     "output_type": "stream",
     "text": [
      "1 : L 2 \n",
      "2 : \n"
     ]
    }
   ],
   "source": [
    "outputBT(b)"
   ]
  },
  {
   "cell_type": "markdown",
   "metadata": {},
   "source": [
    "# Mirror BT"
   ]
  },
  {
   "cell_type": "code",
   "execution_count": 43,
   "metadata": {},
   "outputs": [
    {
     "name": "stdout",
     "output_type": "stream",
     "text": [
      "1\n",
      "2\n",
      "3\n",
      "-1\n",
      "-1\n",
      "4\n",
      "-1\n",
      "-1\n",
      "5\n",
      "-1\n",
      "-1\n"
     ]
    }
   ],
   "source": [
    "a = inputBT()"
   ]
  },
  {
   "cell_type": "code",
   "execution_count": 40,
   "metadata": {},
   "outputs": [],
   "source": [
    "def mirror(root):\n",
    "    if root is None:\n",
    "        return\n",
    "    a = mirror(root.left)\n",
    "    b = mirror(root.right)\n",
    "    root.left,root.right = root.right,root.left"
   ]
  },
  {
   "cell_type": "code",
   "execution_count": 44,
   "metadata": {},
   "outputs": [],
   "source": [
    "mirror(a)"
   ]
  },
  {
   "cell_type": "code",
   "execution_count": 45,
   "metadata": {},
   "outputs": [
    {
     "name": "stdout",
     "output_type": "stream",
     "text": [
      "1 : L 5 R 2 \n",
      "5 : \n",
      "2 : L 4 R 3 \n",
      "4 : \n",
      "3 : \n"
     ]
    }
   ],
   "source": [
    "outputBT(a)"
   ]
  },
  {
   "cell_type": "markdown",
   "metadata": {},
   "source": [
    "# Balanced Tree or Not"
   ]
  },
  {
   "cell_type": "markdown",
   "metadata": {},
   "source": [
    "T.C = O(n)"
   ]
  },
  {
   "cell_type": "code",
   "execution_count": 41,
   "metadata": {},
   "outputs": [],
   "source": [
    "def height(root):\n",
    "    if root is None:\n",
    "        return 0\n",
    "    return 1+max(height(root.left),height(root.right))"
   ]
  },
  {
   "cell_type": "markdown",
   "metadata": {},
   "source": [
    "[best case] T.C = 2T(n/2) + 2n => 2T(n/2) + n = O(nlogn)"
   ]
  },
  {
   "cell_type": "markdown",
   "metadata": {},
   "source": [
    "[worst case] T.C = n+ T(n-1) = O(n^2)"
   ]
  },
  {
   "cell_type": "code",
   "execution_count": 42,
   "metadata": {},
   "outputs": [],
   "source": [
    "def balanced(root):\n",
    "    if root is None:\n",
    "        return True\n",
    "    # to check for root\n",
    "    lh = height(root.left)\n",
    "    rh = height(root.right)\n",
    "    if abs(lh-rh)<=1:\n",
    "        return True\n",
    "    else:\n",
    "        return False\n",
    "    # to check for other elements\n",
    "    isLeftBalanced = balanced(root.left)\n",
    "    isRightBalanced = balanced(root.right)\n",
    "    if isLeftBalanced and isRightBalanced:\n",
    "        return True\n",
    "    else:\n",
    "        return False"
   ]
  },
  {
   "cell_type": "code",
   "execution_count": 43,
   "metadata": {},
   "outputs": [
    {
     "name": "stdout",
     "output_type": "stream",
     "text": [
      "1\n",
      "2\n",
      "3\n",
      "-1\n",
      "-1\n",
      "4\n",
      "-1\n",
      "-1\n",
      "5\n",
      "-1\n",
      "-1\n"
     ]
    }
   ],
   "source": [
    "a =inputBT()"
   ]
  },
  {
   "cell_type": "code",
   "execution_count": 44,
   "metadata": {},
   "outputs": [
    {
     "data": {
      "text/plain": [
       "True"
      ]
     },
     "execution_count": 44,
     "metadata": {},
     "output_type": "execute_result"
    }
   ],
   "source": [
    "balanced(a)"
   ]
  },
  {
   "cell_type": "markdown",
   "metadata": {},
   "source": [
    "# Diameter of tree"
   ]
  },
  {
   "cell_type": "markdown",
   "metadata": {},
   "source": [
    "number of edges between 2 farthest nodes"
   ]
  },
  {
   "cell_type": "code",
   "execution_count": 51,
   "metadata": {},
   "outputs": [],
   "source": [
    "def diameter(root):\n",
    "    if root is None:\n",
    "        return 0\n",
    "    left_depth = height(root.left)\n",
    "    right_depth = height(root.right)\n",
    "    left_dia = diameter(root.left)\n",
    "    right_dia = diameter(root.right)\n",
    "    return max(1+left_depth+right_depth,max(left_dia,right_dia))"
   ]
  },
  {
   "cell_type": "code",
   "execution_count": 17,
   "metadata": {},
   "outputs": [
    {
     "name": "stdout",
     "output_type": "stream",
     "text": [
      "1\n",
      "2\n",
      "3\n",
      "4\n",
      "5\n",
      "-1\n",
      "-1\n",
      "6\n",
      "-1\n",
      "-1\n",
      "7\n",
      "-1\n",
      "-1\n",
      "8\n",
      "-1\n",
      "-1\n",
      "9\n",
      "-1\n",
      "-1\n"
     ]
    }
   ],
   "source": [
    "a = inputBT()"
   ]
  },
  {
   "cell_type": "code",
   "execution_count": 18,
   "metadata": {},
   "outputs": [
    {
     "name": "stdout",
     "output_type": "stream",
     "text": [
      "1 : L 2 R 9 \n",
      "2 : L 3 R 8 \n",
      "3 : L 4 R 7 \n",
      "4 : L 5 R 6 \n",
      "5 : \n",
      "6 : \n",
      "7 : \n",
      "8 : \n",
      "9 : \n"
     ]
    }
   ],
   "source": [
    "outputBT(a)"
   ]
  },
  {
   "cell_type": "code",
   "execution_count": 36,
   "metadata": {},
   "outputs": [
    {
     "data": {
      "text/plain": [
       "5"
      ]
     },
     "execution_count": 36,
     "metadata": {},
     "output_type": "execute_result"
    }
   ],
   "source": [
    "diameter(a)"
   ]
  },
  {
   "cell_type": "code",
   "execution_count": 42,
   "metadata": {},
   "outputs": [
    {
     "name": "stdout",
     "output_type": "stream",
     "text": [
      "1\n",
      "2\n",
      "3\n",
      "4\n",
      "5\n",
      "-1\n",
      "-1\n",
      "-1\n",
      "-1\n",
      "6\n",
      "-1\n",
      "7\n",
      "-1\n",
      "8\n",
      "-1\n",
      "-1\n",
      "4\n",
      "-1\n",
      "-1\n"
     ]
    }
   ],
   "source": [
    "b = inputBT()"
   ]
  },
  {
   "cell_type": "code",
   "execution_count": 52,
   "metadata": {},
   "outputs": [
    {
     "name": "stdout",
     "output_type": "stream",
     "text": [
      "1 : L 2 R 4 \n",
      "2 : L 3 R 6 \n",
      "3 : L 4 \n",
      "4 : L 5 \n",
      "5 : \n",
      "6 : R 7 \n",
      "7 : R 8 \n",
      "8 : \n",
      "4 : \n"
     ]
    }
   ],
   "source": [
    "outputBT(b)"
   ]
  },
  {
   "cell_type": "code",
   "execution_count": 53,
   "metadata": {},
   "outputs": [
    {
     "data": {
      "text/plain": [
       "6"
      ]
     },
     "execution_count": 53,
     "metadata": {},
     "output_type": "execute_result"
    }
   ],
   "source": [
    "diameter(a)"
   ]
  },
  {
   "cell_type": "markdown",
   "metadata": {},
   "source": [
    "# Better way for diameter"
   ]
  },
  {
   "cell_type": "code",
   "execution_count": 77,
   "metadata": {},
   "outputs": [],
   "source": [
    "def height(root, result): \n",
    "    if (root == None): \n",
    "        return 0  \n",
    "    left_height = height(root.left, result)  \n",
    "    right_height = height(root.right, result)  \n",
    "    result[0] = max(result[0], 1 + left_height + right_height)  \n",
    "    return 1 + max(left_height, right_height) "
   ]
  },
  {
   "cell_type": "code",
   "execution_count": 78,
   "metadata": {},
   "outputs": [],
   "source": [
    "def diameter(root): \n",
    "    if (root == None):  \n",
    "        return 0\n",
    "    result = [-999999999999]\n",
    "    height_of_tree = height(root, result)  \n",
    "    return result[0] "
   ]
  },
  {
   "cell_type": "code",
   "execution_count": 79,
   "metadata": {},
   "outputs": [
    {
     "data": {
      "text/plain": [
       "6"
      ]
     },
     "execution_count": 79,
     "metadata": {},
     "output_type": "execute_result"
    }
   ],
   "source": [
    "diameter(a)"
   ]
  },
  {
   "cell_type": "markdown",
   "metadata": {},
   "source": [
    "# Levelwise input"
   ]
  },
  {
   "cell_type": "code",
   "execution_count": 37,
   "metadata": {},
   "outputs": [],
   "source": [
    "from queue import Queue\n",
    "def levelwise():\n",
    "    root = BT(int(input()))\n",
    "    a = Queue()\n",
    "    a.put(root)\n",
    "    while not a.empty():\n",
    "        l = BT(int(input()))\n",
    "        r = BT(int(input()))\n",
    "        temp = a.get()\n",
    "        if l.data>=0:\n",
    "            temp.left = l\n",
    "            a.put(l)\n",
    "        if r.data>=0:\n",
    "            temp.right = r\n",
    "            a.put(r)\n",
    "    return root"
   ]
  },
  {
   "cell_type": "code",
   "execution_count": 39,
   "metadata": {},
   "outputs": [
    {
     "name": "stdout",
     "output_type": "stream",
     "text": [
      "1\n",
      "2\n",
      "3\n",
      "4\n",
      "-1\n",
      "-1\n",
      "-1\n",
      "-1\n",
      "-1\n"
     ]
    }
   ],
   "source": [
    "a = levelwise()"
   ]
  },
  {
   "cell_type": "code",
   "execution_count": 40,
   "metadata": {},
   "outputs": [
    {
     "name": "stdout",
     "output_type": "stream",
     "text": [
      "1 : L 2 R 3 \n",
      "2 : L 4 \n",
      "4 : \n",
      "3 : \n"
     ]
    }
   ],
   "source": [
    "outputBT(a)"
   ]
  },
  {
   "cell_type": "markdown",
   "metadata": {},
   "source": [
    "# Print Levelwise"
   ]
  },
  {
   "cell_type": "code",
   "execution_count": 45,
   "metadata": {},
   "outputs": [],
   "source": [
    "def printLevel(root):\n",
    "    if root is None:\n",
    "        return None\n",
    "    a = Queue()\n",
    "    a.put(root)\n",
    "    while not a.empty():\n",
    "        temp = a.get()\n",
    "        print(temp.data,end=\" : \")\n",
    "        if temp.left:\n",
    "            print(\"L\",temp.left.data,end=\" \")\n",
    "            a.put(temp.left)\n",
    "        if temp.right:\n",
    "            print(\"R\",temp.right.data,end=\" \")\n",
    "            a.put(temp.right)\n",
    "        print()"
   ]
  },
  {
   "cell_type": "code",
   "execution_count": 46,
   "metadata": {},
   "outputs": [
    {
     "name": "stdout",
     "output_type": "stream",
     "text": [
      "1 : L 2 R 3 \n",
      "2 : L 4 \n",
      "3 : \n",
      "4 : \n"
     ]
    }
   ],
   "source": [
    "printLevel(a)"
   ]
  },
  {
   "cell_type": "markdown",
   "metadata": {},
   "source": [
    "# Preorder and inorder"
   ]
  },
  {
   "cell_type": "code",
   "execution_count": 117,
   "metadata": {},
   "outputs": [],
   "source": [
    "from queue import Queue\n",
    "class BT:\n",
    "    def __init__(self,data):\n",
    "        self.data = data\n",
    "        self.left = None\n",
    "        self.right = None\n",
    "def outputBT(root):\n",
    "    a = Queue()\n",
    "    a.put(root)\n",
    "    while not a.empty():\n",
    "        temp = a.get()\n",
    "        print(temp.data,end= \" : \")\n",
    "        if temp.left:\n",
    "            print(\"L\",temp.left.data,end=\" \")\n",
    "            a.put(temp.left)\n",
    "        if temp.right:\n",
    "            print(\"R\",temp.right.data,end =\" \")\n",
    "            a.put(temp.right)\n",
    "        print()"
   ]
  },
  {
   "cell_type": "code",
   "execution_count": 100,
   "metadata": {},
   "outputs": [],
   "source": [
    "def pre_in(preorder,inorder):\n",
    "    if len(preorder) == 0:\n",
    "        return None\n",
    "    rootData = preorder[0]\n",
    "    root = BT(rootData)\n",
    "    ind = inorder.index(rootData)\n",
    "    left_in = inorder[0:ind]\n",
    "    right_in = inorder[ind+1:]\n",
    "    size_l = len(left_in)\n",
    "    left_pre = preorder[1:size_l+1]\n",
    "    right_pre = preorder[size_l+1:]\n",
    "    left_tree= pre_in(left_pre,left_in)\n",
    "    right_tree = pre_in(right_pre,right_in)\n",
    "    root.left = left_tree\n",
    "    root.right = right_tree\n",
    "    return root"
   ]
  },
  {
   "cell_type": "code",
   "execution_count": 101,
   "metadata": {},
   "outputs": [],
   "source": [
    "a = pre_in([1 ,2, 4 ,5 ,3 ,6, 7 ],[4 ,2 ,5 ,1 ,6 ,3 ,7 ])"
   ]
  },
  {
   "cell_type": "code",
   "execution_count": 102,
   "metadata": {},
   "outputs": [
    {
     "name": "stdout",
     "output_type": "stream",
     "text": [
      "1 : L 2 R 3 \n",
      "2 : L 4 R 5 \n",
      "3 : L 6 R 7 \n",
      "4 : \n",
      "5 : \n",
      "6 : \n",
      "7 : \n"
     ]
    }
   ],
   "source": [
    "outputBT(a)"
   ]
  },
  {
   "cell_type": "markdown",
   "metadata": {},
   "source": [
    "# Postorder and inorder"
   ]
  },
  {
   "cell_type": "code",
   "execution_count": 103,
   "metadata": {},
   "outputs": [],
   "source": [
    "def post_in(postorder,inorder):\n",
    "    if len(postorder) == 0:\n",
    "        return None\n",
    "    rootData = postorder[-1]\n",
    "    root = BT(rootData)\n",
    "    ind = inorder.index(rootData)\n",
    "    left_inorder = inorder[0:ind]\n",
    "    right_inorder = inorder[ind+1:]\n",
    "    l_size = len(left_inorder)\n",
    "    \n",
    "    left_postorder = postorder[:l_size]\n",
    "    right_postorder = postorder[l_size:-1]\n",
    "    \n",
    "    left_tree = post_in(left_postorder,left_inorder)\n",
    "    right_tree = post_in(right_postorder,right_inorder)\n",
    "    root.left = left_tree\n",
    "    root.right =right_tree\n",
    "    return root"
   ]
  },
  {
   "cell_type": "code",
   "execution_count": 121,
   "metadata": {},
   "outputs": [],
   "source": [
    "a = post_in([4 ,5 ,2,6, 7 ,3 ,1 ],[4 ,2, 5 ,1 ,6 ,3 ,7 ])"
   ]
  },
  {
   "cell_type": "code",
   "execution_count": 122,
   "metadata": {},
   "outputs": [
    {
     "name": "stdout",
     "output_type": "stream",
     "text": [
      "1 : L 2 R 3 \n",
      "2 : L 4 R 5 \n",
      "3 : L 6 R 7 \n",
      "4 : \n",
      "5 : \n",
      "6 : \n",
      "7 : \n"
     ]
    }
   ],
   "source": [
    "outputBT(a)"
   ]
  },
  {
   "cell_type": "markdown",
   "metadata": {},
   "source": [
    "# Duplicate node addition at left"
   ]
  },
  {
   "cell_type": "code",
   "execution_count": 109,
   "metadata": {},
   "outputs": [
    {
     "name": "stdout",
     "output_type": "stream",
     "text": [
      "1\n",
      "2\n",
      "3\n",
      "-1\n",
      "-1\n",
      "4\n",
      "-1\n",
      "-1\n",
      "5\n",
      "6\n",
      "-1\n",
      "-1\n",
      "7\n",
      "-1\n",
      "-1\n"
     ]
    }
   ],
   "source": [
    "a = inputBT()"
   ]
  },
  {
   "cell_type": "code",
   "execution_count": 123,
   "metadata": {},
   "outputs": [],
   "source": [
    "def duplicate(root):\n",
    "    if root is None:\n",
    "        return\n",
    "    duplicate(root.left)\n",
    "    duplicate(root.right)\n",
    "    duplicateData= root.data\n",
    "    duplicateNode = BT(duplicateData)\n",
    "    duplicateNode.left = root.left\n",
    "    root.left = duplicateNode\n",
    "    return root"
   ]
  },
  {
   "cell_type": "code",
   "execution_count": 124,
   "metadata": {},
   "outputs": [],
   "source": [
    "b = duplicate(a)"
   ]
  },
  {
   "cell_type": "code",
   "execution_count": 125,
   "metadata": {},
   "outputs": [
    {
     "name": "stdout",
     "output_type": "stream",
     "text": [
      "1 : L 1 R 3 \n",
      "1 : L 2 \n",
      "3 : L 3 R 7 \n",
      "2 : L 2 R 5 \n",
      "3 : L 6 \n",
      "7 : L 7 \n",
      "2 : L 4 \n",
      "5 : L 5 \n",
      "6 : L 6 \n",
      "7 : \n",
      "4 : L 4 \n",
      "5 : \n",
      "6 : \n",
      "4 : \n"
     ]
    }
   ],
   "source": [
    "outputBT(b)"
   ]
  },
  {
   "cell_type": "markdown",
   "metadata": {},
   "source": [
    "# Revision Duplicate"
   ]
  },
  {
   "cell_type": "code",
   "execution_count": 11,
   "metadata": {},
   "outputs": [],
   "source": [
    "from queue import Queue"
   ]
  },
  {
   "cell_type": "code",
   "execution_count": 12,
   "metadata": {},
   "outputs": [],
   "source": [
    "class BT:\n",
    "    def __init__(self,data):\n",
    "        self.data = data\n",
    "        self.left = None\n",
    "        self.right = None\n",
    "def inputBT():\n",
    "    rootData = int(input())\n",
    "    if rootData == -1:\n",
    "        return\n",
    "    root = BT(rootData)\n",
    "    a = Queue()\n",
    "    a.put(root)\n",
    "    while not a.empty():\n",
    "        temp = a.get()\n",
    "        l = BT(int(input()))\n",
    "        r = BT(int(input()))\n",
    "        if l.data !=-1:\n",
    "            temp.left = l\n",
    "            a.put(l)\n",
    "        if r.data != -1:\n",
    "            temp.right = r\n",
    "            a.put(r)\n",
    "    return root\n",
    "def outputBT(root):\n",
    "    if root is None:\n",
    "        return None\n",
    "    a = Queue()\n",
    "    a.put(root)\n",
    "    while not a.empty():\n",
    "        temp = a.get()\n",
    "        print(temp.data,end=\" : \")\n",
    "        if temp.left:\n",
    "            print(\"L\",temp.left.data,end=\" \")\n",
    "            a.put(temp.left)\n",
    "        if temp.right:\n",
    "            print(\"R\",temp.right.data,end=\" \")\n",
    "            a.put(temp.right)\n",
    "        print()"
   ]
  },
  {
   "cell_type": "code",
   "execution_count": 13,
   "metadata": {},
   "outputs": [],
   "source": [
    "def duplicate(root):\n",
    "    if root is None:\n",
    "        return\n",
    "    duplicate(root.left)\n",
    "    duplicate(root.right)\n",
    "    duplicateData = root.data\n",
    "    duplicateNode = BT(duplicateData)\n",
    "    duplicateNode.left = root.left\n",
    "    root.left = duplicateNode"
   ]
  },
  {
   "cell_type": "code",
   "execution_count": 20,
   "metadata": {},
   "outputs": [
    {
     "name": "stdout",
     "output_type": "stream",
     "text": [
      "1\n",
      "2\n",
      "3\n",
      "4\n",
      "5\n",
      "6\n",
      "7\n",
      "8\n",
      "-1\n",
      "-1\n",
      "-1\n",
      "-1\n",
      "-1\n",
      "-1\n",
      "-1\n",
      "-1\n",
      "-1\n"
     ]
    }
   ],
   "source": [
    "a = inputBT()"
   ]
  },
  {
   "cell_type": "code",
   "execution_count": 21,
   "metadata": {},
   "outputs": [
    {
     "name": "stdout",
     "output_type": "stream",
     "text": [
      "1 : L 2 R 3 \n",
      "2 : L 4 R 5 \n",
      "3 : L 6 R 7 \n",
      "4 : L 8 \n",
      "5 : \n",
      "6 : \n",
      "7 : \n",
      "8 : \n"
     ]
    }
   ],
   "source": [
    "outputBT(a)"
   ]
  },
  {
   "cell_type": "code",
   "execution_count": 16,
   "metadata": {},
   "outputs": [],
   "source": [
    "duplicate(a)"
   ]
  },
  {
   "cell_type": "code",
   "execution_count": 17,
   "metadata": {},
   "outputs": [
    {
     "name": "stdout",
     "output_type": "stream",
     "text": [
      "1 : L 1 R 3 \n",
      "1 : L 2 \n",
      "3 : L 3 R 7 \n",
      "2 : L 2 R 5 \n",
      "3 : L 6 \n",
      "7 : L 7 \n",
      "2 : L 4 \n",
      "5 : L 5 \n",
      "6 : L 6 \n",
      "7 : \n",
      "4 : L 4 \n",
      "5 : \n",
      "6 : \n",
      "4 : \n"
     ]
    }
   ],
   "source": [
    "outputBT(a)"
   ]
  },
  {
   "cell_type": "code",
   "execution_count": 28,
   "metadata": {},
   "outputs": [],
   "source": [
    "def min_max(root):\n",
    "    if root is None:\n",
    "        return 1000000,0\n",
    "    l_min,l_max = min_max(root.left)\n",
    "    r_min,r_max = min_max(root.right)\n",
    "    minimum = min(root.data,l_min,r_min)\n",
    "    maximum = max(root.data,l_max,r_max)\n",
    "    return minimum,maximum"
   ]
  },
  {
   "cell_type": "code",
   "execution_count": 29,
   "metadata": {},
   "outputs": [
    {
     "data": {
      "text/plain": [
       "(1, 8)"
      ]
     },
     "execution_count": 29,
     "metadata": {},
     "output_type": "execute_result"
    }
   ],
   "source": [
    "min_max(a)"
   ]
  },
  {
   "cell_type": "code",
   "execution_count": 30,
   "metadata": {},
   "outputs": [
    {
     "name": "stdout",
     "output_type": "stream",
     "text": [
      "8\n",
      "3\n",
      "10\n",
      "1\n",
      "6\n",
      "-1\n",
      "14\n",
      "-1\n",
      "-1\n",
      "4\n",
      "7\n",
      "13\n",
      "-1\n",
      "-1\n",
      "-1\n",
      "-1\n",
      "-1\n",
      "-1\n",
      "-1\n"
     ]
    }
   ],
   "source": [
    "a = inputBT()"
   ]
  },
  {
   "cell_type": "code",
   "execution_count": 31,
   "metadata": {},
   "outputs": [
    {
     "name": "stdout",
     "output_type": "stream",
     "text": [
      "8 : L 3 R 10 \n",
      "3 : L 1 R 6 \n",
      "10 : R 14 \n",
      "1 : \n",
      "6 : L 4 R 7 \n",
      "14 : L 13 \n",
      "4 : \n",
      "7 : \n",
      "13 : \n"
     ]
    }
   ],
   "source": [
    "outputBT(a)"
   ]
  },
  {
   "cell_type": "code",
   "execution_count": 32,
   "metadata": {},
   "outputs": [
    {
     "data": {
      "text/plain": [
       "(1, 14)"
      ]
     },
     "execution_count": 32,
     "metadata": {},
     "output_type": "execute_result"
    }
   ],
   "source": [
    "min_max(a)"
   ]
  },
  {
   "cell_type": "markdown",
   "metadata": {},
   "source": [
    "# Level wise Traversal"
   ]
  },
  {
   "cell_type": "code",
   "execution_count": 1,
   "metadata": {},
   "outputs": [],
   "source": [
    "from queue import Queue"
   ]
  },
  {
   "cell_type": "code",
   "execution_count": 5,
   "metadata": {},
   "outputs": [],
   "source": [
    "class BT:\n",
    "    def __init__(self,data):\n",
    "        self.data = data\n",
    "        self.left = None\n",
    "        self.right = None\n",
    "def inputBT():\n",
    "    n = int(input())\n",
    "    if n == -1 :\n",
    "        return\n",
    "    root = BT(n)\n",
    "    a = Queue()\n",
    "    a.put(root)\n",
    "    while not a.empty():\n",
    "        temp = a.get()\n",
    "        l = BT(int(input()))\n",
    "        r = BT(int(input()))\n",
    "        if l.data !=-1:\n",
    "            temp.left = l\n",
    "            a.put(l)\n",
    "        if r.data != -1:\n",
    "            temp.right = r\n",
    "            a.put(r)\n",
    "    return root"
   ]
  },
  {
   "cell_type": "code",
   "execution_count": 27,
   "metadata": {},
   "outputs": [],
   "source": [
    "def output_traversal(root):\n",
    "    arr = []\n",
    "    arr.append(root)\n",
    "    while arr:\n",
    "        count = len(arr)\n",
    "        while count > 0:\n",
    "            temp = arr.pop(0)\n",
    "            print(temp.data, end = ' ')\n",
    "            if temp.left:\n",
    "                arr.append(temp.left)\n",
    "            if temp.right:\n",
    "                arr.append(temp.right)\n",
    "            count -= 1\n",
    "        print(' ')"
   ]
  },
  {
   "cell_type": "code",
   "execution_count": 28,
   "metadata": {},
   "outputs": [
    {
     "name": "stdout",
     "output_type": "stream",
     "text": [
      "1  \n",
      "2 3  \n",
      "4 5 6 7  \n"
     ]
    }
   ],
   "source": [
    "output_traversal(a)"
   ]
  },
  {
   "cell_type": "code",
   "execution_count": 7,
   "metadata": {},
   "outputs": [
    {
     "name": "stdout",
     "output_type": "stream",
     "text": [
      "1\n",
      "2\n",
      "3\n",
      "4\n",
      "5\n",
      "6\n",
      "7\n",
      "-1\n",
      "-1\n",
      "-1\n",
      "-1\n",
      "-1\n",
      "-1\n",
      "-1\n",
      "-1\n"
     ]
    }
   ],
   "source": [
    "a = inputBT()"
   ]
  },
  {
   "cell_type": "code",
   "execution_count": 29,
   "metadata": {},
   "outputs": [],
   "source": [
    "def outputT(root):\n",
    "    if root is None:\n",
    "        return None\n",
    "    arr = []\n",
    "    arr.append(root)\n",
    "    while arr:\n",
    "        count = len(arr)\n",
    "        while count>0:\n",
    "            temp = arr.pop(0)\n",
    "            print(temp.data,end = \" \")\n",
    "            if temp.left:\n",
    "                arr.append(temp.left)\n",
    "            if temp.right:\n",
    "                arr.append(temp.right)\n",
    "            count-=1\n",
    "        print()\n",
    "        "
   ]
  },
  {
   "cell_type": "code",
   "execution_count": 30,
   "metadata": {},
   "outputs": [
    {
     "name": "stdout",
     "output_type": "stream",
     "text": [
      "1 \n",
      "2 3 \n",
      "4 5 6 7 \n"
     ]
    }
   ],
   "source": [
    "outputT(a)"
   ]
  },
  {
   "cell_type": "markdown",
   "metadata": {},
   "source": [
    "# Path sum root"
   ]
  },
  {
   "cell_type": "code",
   "execution_count": 51,
   "metadata": {},
   "outputs": [],
   "source": [
    "def path_sum(root,k,string):\n",
    "    if root is None:\n",
    "        return \n",
    "    string += str(root.data)\n",
    "    k-= root.data\n",
    "    if k == 0:\n",
    "        for i in string:\n",
    "            print(i,end=\" \")\n",
    "        return\n",
    "    path_sum(root.left,k,string)\n",
    "    path_sum(root.right,k,string)\n",
    "    "
   ]
  },
  {
   "cell_type": "code",
   "execution_count": 52,
   "metadata": {},
   "outputs": [
    {
     "name": "stdout",
     "output_type": "stream",
     "text": [
      "1 3 6 "
     ]
    }
   ],
   "source": [
    "path_sum(a,10,\"\")"
   ]
  },
  {
   "cell_type": "markdown",
   "metadata": {},
   "source": [
    "# Print all nodes at distance k from target node"
   ]
  },
  {
   "cell_type": "code",
   "execution_count": 1,
   "metadata": {},
   "outputs": [],
   "source": [
    "from queue import Queue"
   ]
  },
  {
   "cell_type": "code",
   "execution_count": 8,
   "metadata": {},
   "outputs": [],
   "source": [
    "class BT:\n",
    "    def __init__(self,data):\n",
    "        self.data = data\n",
    "        self.right = None\n",
    "        self.left = None\n",
    "        \n",
    "def inputBT():\n",
    "    rootData = int(input())\n",
    "    if rootData == -1:\n",
    "        return\n",
    "    root = BT(rootData)\n",
    "    a = Queue()\n",
    "    a.put(root)\n",
    "    while not a.empty():\n",
    "        temp = a.get()\n",
    "        l = BT(int(input()))\n",
    "        r = BT(int(input()))\n",
    "        if l.data !=-1:\n",
    "            temp.left = l\n",
    "            a.put(l)\n",
    "        if r.data != -1:\n",
    "            temp.right = r\n",
    "            a.put(r)\n",
    "    return root\n",
    "def outputBT(root):\n",
    "    if root is None:\n",
    "        return\n",
    "    a = Queue()\n",
    "    a.put(root)\n",
    "    while not a.empty():\n",
    "        temp = a.get()\n",
    "        print(temp.data,end=\" : \")\n",
    "        if temp.left:\n",
    "            print(\"L\",temp.left.data,end=\" \")\n",
    "            a.put(temp.left)\n",
    "        if temp.right:\n",
    "            print(\"R\",temp.right.data,end =\" \")\n",
    "            a.put(temp.right)\n",
    "        print()"
   ]
  },
  {
   "cell_type": "code",
   "execution_count": 6,
   "metadata": {},
   "outputs": [],
   "source": [
    "def printDownNodes(root,k):\n",
    "    if root is None:\n",
    "        return \n",
    "    if k == 0:\n",
    "        print(root.data)\n",
    "        return\n",
    "    printDownNodes(root.left,k-1)\n",
    "    printDownNodes(root.right,k-1)"
   ]
  },
  {
   "cell_type": "code",
   "execution_count": 37,
   "metadata": {},
   "outputs": [],
   "source": [
    "def printNodes(root,target,k):\n",
    "    if root is None:\n",
    "        return -1\n",
    "    if root.data == target:\n",
    "        printDownNodes(root,k) \n",
    "        return 0 \n",
    "    \n",
    "    #for left subtree\n",
    "    left_subtree = printNodes(root.left,target,k)\n",
    "    if left_subtree != -1:\n",
    "        if left_subtree +1 == k:\n",
    "            print(root.data)\n",
    "        else:\n",
    "            printDownNodes(root.right,k-left_subtree-2)\n",
    "        return left_subtree +1\n",
    "    \n",
    "    #for right subtree\n",
    "    right_subtree = printNodes(root.right.target,k)\n",
    "    if right_subtree != -1:\n",
    "        if right_subtree+1 == k:\n",
    "            print(root.data)\n",
    "        else:\n",
    "            printDownNodes(root.left,k-right_subtree-2)\n",
    "        return right_subtree+1\n",
    "    print(left_subtree,right_subtree)\n",
    "    return -1"
   ]
  },
  {
   "cell_type": "code",
   "execution_count": 33,
   "metadata": {},
   "outputs": [
    {
     "name": "stdout",
     "output_type": "stream",
     "text": [
      "3\n",
      "5\n",
      "1\n",
      "6\n",
      "2\n",
      "0\n",
      "8\n",
      "-1\n",
      "-1\n",
      "7\n",
      "4\n",
      "-1\n",
      "-1\n",
      "-1\n",
      "-1\n",
      "-1\n",
      "-1\n",
      "-1\n",
      "-1\n"
     ]
    }
   ],
   "source": [
    "a = inputBT()"
   ]
  },
  {
   "cell_type": "code",
   "execution_count": 34,
   "metadata": {},
   "outputs": [
    {
     "name": "stdout",
     "output_type": "stream",
     "text": [
      "3 : L 5 R 1 \n",
      "5 : L 6 R 2 \n",
      "1 : L 0 R 8 \n",
      "6 : \n",
      "2 : L 7 R 4 \n",
      "0 : \n",
      "8 : \n",
      "7 : \n",
      "4 : \n"
     ]
    }
   ],
   "source": [
    "outputBT(a)"
   ]
  },
  {
   "cell_type": "code",
   "execution_count": 36,
   "metadata": {},
   "outputs": [
    {
     "name": "stdout",
     "output_type": "stream",
     "text": [
      "6\n",
      "2\n",
      "0\n",
      "8\n"
     ]
    }
   ],
   "source": [
    "printDownNodes(a,2)"
   ]
  },
  {
   "cell_type": "code",
   "execution_count": 38,
   "metadata": {},
   "outputs": [
    {
     "name": "stdout",
     "output_type": "stream",
     "text": [
      "7\n",
      "4\n",
      "1\n"
     ]
    },
    {
     "data": {
      "text/plain": [
       "1"
      ]
     },
     "execution_count": 38,
     "metadata": {},
     "output_type": "execute_result"
    }
   ],
   "source": [
    "printNodes(a,5,2)"
   ]
  }
 ],
 "metadata": {
  "kernelspec": {
   "display_name": "Python 3",
   "language": "python",
   "name": "python3"
  },
  "language_info": {
   "codemirror_mode": {
    "name": "ipython",
    "version": 3
   },
   "file_extension": ".py",
   "mimetype": "text/x-python",
   "name": "python",
   "nbconvert_exporter": "python",
   "pygments_lexer": "ipython3",
   "version": "3.8.5"
  }
 },
 "nbformat": 4,
 "nbformat_minor": 4
}
